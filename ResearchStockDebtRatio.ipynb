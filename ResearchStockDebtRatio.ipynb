{
 "cells": [
  {
   "cell_type": "markdown",
   "source": [
    "# Data Preparation"
   ],
   "metadata": {
    "collapsed": false
   },
   "id": "31db6f4a4a28ae5c"
  },
  {
   "cell_type": "markdown",
   "source": [
    "### Imports"
   ],
   "metadata": {
    "collapsed": false
   },
   "id": "8bbb23ad419145e7"
  },
  {
   "cell_type": "code",
   "outputs": [],
   "source": [
    "import investpy\n",
    "import yfinance as yf\n",
    "import pandas as pd\n",
    "import numpy as np\n",
    "import requests"
   ],
   "metadata": {
    "collapsed": true,
    "ExecuteTime": {
     "end_time": "2024-10-31T14:12:50.866603800Z",
     "start_time": "2024-10-31T14:12:50.389232400Z"
    }
   },
   "id": "initial_id",
   "execution_count": 1
  },
  {
   "cell_type": "markdown",
   "source": [
    "## US companies ticket extraction"
   ],
   "metadata": {
    "collapsed": false
   },
   "id": "36c2fb0bea4c2060"
  },
  {
   "cell_type": "code",
   "outputs": [
    {
     "name": "stdout",
     "output_type": "stream",
     "text": [
      "         country             name               full_name          isin  \\\n",
      "0  united states           Boeing               Boeing Co  US0970231058   \n",
      "1  united states   General Motors  General Motors Company  US37045V1008   \n",
      "2  united states          Chevron            Chevron Corp  US1667641005   \n",
      "3  united states        Citigroup           Citigroup Inc  US1729674242   \n",
      "4  united states  Bank of America    Bank of America Corp  US0605051046   \n",
      "\n",
      "  currency symbol  \n",
      "0      USD     BA  \n",
      "1      USD     GM  \n",
      "2      USD    CVX  \n",
      "3      USD      C  \n",
      "4      USD    BAC  \n"
     ]
    }
   ],
   "source": [
    "us_stocks = investpy.stocks.get_stocks(country='united states')\n",
    "us_stocks.to_csv('companies/us_stocks.csv', index=False)\n",
    "print(us_stocks.head())"
   ],
   "metadata": {
    "collapsed": false,
    "ExecuteTime": {
     "end_time": "2024-10-05T12:18:17.423740500Z",
     "start_time": "2024-10-05T12:18:17.318744900Z"
    }
   },
   "id": "f604ba855889b30f",
   "execution_count": 4
  },
  {
   "cell_type": "markdown",
   "source": [
    "## Stocks price extraction from yahoo finance"
   ],
   "metadata": {
    "collapsed": false
   },
   "id": "9a7665417f86372d"
  },
  {
   "cell_type": "code",
   "outputs": [],
   "source": [
    "tickers = us_stocks['symbol'].tolist()\n",
    "\n",
    "for company in us_stocks.iterrows():\n",
    "    ticker = company[1][\"symbol\"]\n",
    "    try:\n",
    "        ticker_obj = yf.Ticker(ticker)\n",
    "        hist = ticker_obj.history(period=\"max\")\n",
    "        hist.to_csv(f\"companies\\\\price\\\\{company[1]['name']}-{ticker}.csv\", index=False)\n",
    "        print(ticker)\n",
    "    except Exception as e:\n",
    "        print(e)"
   ],
   "metadata": {
    "collapsed": false
   },
   "id": "27711007c83a3825",
   "execution_count": null
  },
  {
   "cell_type": "markdown",
   "source": [
    "## Debt ratio extraction from FMP"
   ],
   "metadata": {
    "collapsed": false
   },
   "id": "45849bc9541a105d"
  },
  {
   "cell_type": "code",
   "outputs": [],
   "source": [
    "URL = \"https://financialmodelingprep.com/api/v3/ratios/AAPL\"\n",
    "\n",
    "params = {\n",
    "    'limit': '200',\n",
    "    'apikey': '*'\n",
    "}\n",
    "\n",
    "for company in us_stocks.iterrows():\n",
    "    ticker = company[1][\"symbol\"]\n",
    "    \n",
    "    try:\n",
    "        response = requests.get(URL, params=params)\n",
    "        json_res = response.json()\n",
    "        company_debtR_history = {\"Date\": [], \"DebtRatio\": []}\n",
    "        for year_data in json_res:\n",
    "            if year_data['debtRatio'] != 0:\n",
    "                company_debtR_history[\"Date\"].append(year_data['date'])\n",
    "                company_debtR_history[\"DebtRatio\"].append(year_data['debtRatio'])\n",
    "        \n",
    "        company_df = pd.DataFrame(company_debtR_history)\n",
    "        company_df.to_csv(f\"companies/debt/{company[1]['name']}-{ticker}.csv\", index=False)\n",
    "        print(ticker)\n",
    "    except Exception as e:\n",
    "        print(e)"
   ],
   "metadata": {
    "collapsed": false
   },
   "id": "fd163519e11fe00f",
   "execution_count": null
  },
  {
   "cell_type": "markdown",
   "source": [],
   "metadata": {
    "collapsed": false
   },
   "id": "8feb165d3300e5df"
  },
  {
   "cell_type": "markdown",
   "source": [
    "## Concatenate close price of a stock with debt ratio"
   ],
   "metadata": {
    "collapsed": false
   },
   "id": "1751a6122363e38"
  },
  {
   "cell_type": "code",
   "outputs": [],
   "source": [
    "def merge_with_flexible_dates(stocks, debt, day_range=5):\n",
    "    merged_data = []\n",
    "    \n",
    "    for debt_row in debt.itertuples():\n",
    "        debt_date = debt_row.Date\n",
    "        \n",
    "        # Try to find exact match in stocks\n",
    "        stock_match = stocks[stocks['Date'] == debt_date]\n",
    "        \n",
    "        if stock_match.empty:\n",
    "            # If no exact match, find stock data within the 5-day window\n",
    "            stock_match = stocks[\n",
    "                (stocks['Date'] >= debt_date - pd.Timedelta(days=day_range)) &\n",
    "                (stocks['Date'] <= debt_date + pd.Timedelta(days=day_range))\n",
    "            ]\n",
    "        \n",
    "        if not stock_match.empty:\n",
    "            # Take the closest date (min difference)\n",
    "            closest_stock = stock_match.iloc[0]\n",
    "            combined_row = {\n",
    "                'Date': debt_date,\n",
    "                'Close': closest_stock['Close'],\n",
    "                'Debt': debt_row.DebtRatio\n",
    "            }\n",
    "            merged_data.append(combined_row)\n",
    "    \n",
    "    return pd.DataFrame(merged_data)"
   ],
   "metadata": {
    "collapsed": false,
    "ExecuteTime": {
     "end_time": "2024-10-01T14:44:56.200446900Z",
     "start_time": "2024-10-01T14:44:56.193060800Z"
    }
   },
   "id": "50e3f4dc205461a9",
   "execution_count": 14
  },
  {
   "cell_type": "code",
   "outputs": [],
   "source": [
    "for company in us_stocks.iterrows():\n",
    "    ticker = company[1][\"symbol\"]\n",
    "    \n",
    "    try:\n",
    "        stocks = pd.read_csv(f\"companies/price/{company[1]['name']}-{ticker}.csv\")\n",
    "        debt = pd.read_csv(f\"companies/debt/{company[1]['name']}-{ticker}.csv\")\n",
    "        \n",
    "        stocks['Date'] = pd.to_datetime(stocks['Date'], utc=True).dt.date\n",
    "        debt['Date'] = pd.to_datetime(debt['Date']).dt.date\n",
    "        debt = debt.sort_values(by='Date', ascending=True)\n",
    "        \n",
    "        combined_data = merge_with_flexible_dates(stocks, debt, day_range=2)\n",
    "        only_close_debt = combined_data.dropna()\n",
    "        \n",
    "        if not only_close_debt.empty:\n",
    "            print(ticker, company[1]['name'])\n",
    "            only_close_debt.to_csv(f\"companies/combined/{company[1]['name']}-{ticker}.csv\", index=False)\n",
    "    except Exception as e:\n",
    "        print(e)"
   ],
   "metadata": {
    "collapsed": false
   },
   "id": "5dda72a85ba72142",
   "execution_count": null
  },
  {
   "cell_type": "markdown",
   "source": [
    "## Final concatenation"
   ],
   "metadata": {
    "collapsed": false
   },
   "id": "8ffcd705acbebce1"
  },
  {
   "cell_type": "code",
   "outputs": [],
   "source": [
    "from sklearn.preprocessing import MinMaxScaler\n",
    "\n",
    "scaler = MinMaxScaler()\n",
    "analysis_data = pd.DataFrame()\n",
    "for company in us_stocks.iterrows():\n",
    "    ticker = company[1][\"symbol\"]\n",
    "    \n",
    "    try:\n",
    "        price_debt = pd.read_csv(f\"companies/combined/{company[1]['name']}-{ticker}.csv\")\n",
    "        price_debt['Date'] = pd.to_datetime(price_debt['Date'])\n",
    "        \n",
    "        last_2_decades = price_debt[price_debt['Date'] >= pd.to_datetime(\"2003-01-01\")]\n",
    "        last_2_decades = last_2_decades.dropna()\n",
    "        last_2_decades['Close_Percent_Change'] = last_2_decades['Close'].pct_change()\n",
    "        \n",
    "        ticker_obj = yf.Ticker(ticker)\n",
    "        splits = pd.DataFrame(ticker_obj.splits)\n",
    "        \n",
    "        split_dates = []\n",
    "        for split in splits.itertuples():\n",
    "            split_dates.append(split[0])\n",
    "        split_dates = pd.DataFrame({\"Date\": split_dates})\n",
    "        \n",
    "        split_dates['Date'] = pd.to_datetime(split_dates['Date'])\n",
    "        split_dates['Date'] = split_dates['Date'].dt.tz_localize(None)\n",
    "        splits_20_years = split_dates[split_dates['Date'] >= pd.to_datetime(\"2003-01-01\")]\n",
    "        \n",
    "        if len(last_2_decades) >= 20 and len(splits_20_years) == 0:\n",
    "            final = last_2_decades\n",
    "            \n",
    "            data_from_2003 = final[final['Date'] >= pd.to_datetime(\"2003-01-01\")]\n",
    "            first_price_2003 = data_from_2003['Close'].iloc[0]\n",
    "            final['Close'] = final['Close'] / first_price_2003\n",
    "            \n",
    "            final['Company'] = company[1]['name']\n",
    "            \n",
    "            if analysis_data.empty:\n",
    "                analysis_data = final\n",
    "            else:\n",
    "                analysis_data = pd.concat([analysis_data, final], axis=0)\n",
    "            \n",
    "            print(ticker, company[1]['name'])\n",
    "    \n",
    "    except Exception as e:\n",
    "        print(e)\n",
    "\n",
    "analysis_data.to_csv(\"companies/analysis_data.csv\", index=False)"
   ],
   "metadata": {
    "collapsed": false
   },
   "id": "4b5105cee726819a",
   "execution_count": null
  },
  {
   "cell_type": "markdown",
   "source": [
    "# Analysis"
   ],
   "metadata": {
    "collapsed": false
   },
   "id": "5abe2233788aaaf8"
  },
  {
   "cell_type": "markdown",
   "source": [
    "## Basic scatter for 4 random companies"
   ],
   "metadata": {
    "collapsed": false
   },
   "id": "73d1cae3645fc4b4"
  },
  {
   "cell_type": "code",
   "outputs": [
    {
     "data": {
      "text/plain": "<Figure size 1200x800 with 1 Axes>",
      "image/png": "[encoded data removed]"
     },
     "metadata": {},
     "output_type": "display_data"
    }
   ],
   "source": [
    "import matplotlib.pyplot as plt\n",
    "\n",
    "analysis_data = pd.read_csv(\"companies/analysis_data.csv\")\n",
    "\n",
    "unique_companies = analysis_data['Company'].unique()[:4]  # Get the first 10 unique companies\n",
    "colors = plt.cm.viridis(np.linspace(0, 1, len(unique_companies)))  # Generate colors\n",
    "\n",
    "plt.figure(figsize=(12, 8))\n",
    "\n",
    "# Step 3: Scatter Plot\n",
    "for i, company in enumerate(unique_companies):\n",
    "    company_data = analysis_data[analysis_data['Company'] == company]\n",
    "    plt.scatter(company_data['Debt'], company_data['Close'], \n",
    "                color=colors[i], label=company)\n",
    "\n",
    "# Step 4: Customize the plot\n",
    "plt.title('Debt Ratio vs Standardized Stock Price for First 10 Companies')\n",
    "plt.xlabel('Debt Ratio')\n",
    "plt.ylabel('Standardized Stock Price (Close)')\n",
    "plt.legend()\n",
    "plt.grid(True)\n",
    "plt.show()"
   ],
   "metadata": {
    "collapsed": false,
    "ExecuteTime": {
     "end_time": "2024-10-31T14:14:12.344005300Z",
     "start_time": "2024-10-31T14:14:12.094007600Z"
    }
   },
   "id": "854ba26cdc50b2fd",
   "execution_count": 2
  },
  {
   "cell_type": "markdown",
   "source": [
    "## Regression analysis"
   ],
   "metadata": {
    "collapsed": false
   },
   "id": "659964512c711cba"
  },
  {
   "cell_type": "code",
   "outputs": [],
   "source": [
    "import pandas as pd\n",
    "from scipy import stats\n",
    "from sklearn.linear_model import LinearRegression\n",
    "from sklearn.model_selection import train_test_split\n",
    "from sklearn.metrics import mean_squared_error, r2_score"
   ],
   "metadata": {
    "collapsed": false,
    "ExecuteTime": {
     "end_time": "2024-10-31T14:14:21.142530700Z",
     "start_time": "2024-10-31T14:14:19.971977Z"
    }
   },
   "id": "b76fe01709c4e5af",
   "execution_count": 3
  },
  {
   "cell_type": "code",
   "outputs": [],
   "source": [
    "analysis_data = analysis_data.dropna()\n",
    "\n",
    "df = analysis_data.sort_values('Date')\n",
    "df['Date'] = pd.to_datetime(df['Date'])\n",
    "\n",
    "df['Time'] = (df['Date'] - df['Date'].min()).dt.days\n",
    "\n",
    "df = df.dropna()\n",
    "\n",
    "grouped_companies = df.groupby('Company')"
   ],
   "metadata": {
    "collapsed": false,
    "ExecuteTime": {
     "end_time": "2024-10-31T14:14:33.769135600Z",
     "start_time": "2024-10-31T14:14:33.753519100Z"
    }
   },
   "id": "e5858412aeff50bb",
   "execution_count": 4
  },
  {
   "cell_type": "code",
   "outputs": [],
   "source": [
    "results = []\n",
    "\n",
    "for company, group in grouped_companies:\n",
    "\n",
    "    # Time-based model (without Debt)\n",
    "    X_time = group[['Time', 'Close_Percent_Change']]\n",
    "    \n",
    "    # Time + Debt model\n",
    "    X_time_debt = group[['Time', 'Close_Percent_Change', 'Debt']]\n",
    "    \n",
    "    # Actual values\n",
    "    y = group['Close']\n",
    "    \n",
    "    # Split data (Time-based model)\n",
    "    X_train_time, X_test_time, y_train, y_test = train_test_split(X_time, y, test_size=0.2, random_state=42)\n",
    "    \n",
    "    # Split data (Time + Debt model)\n",
    "    X_train_time_debt, X_test_time_debt, y_train_debt, y_test_debt = train_test_split(X_time_debt, y, test_size=0.2, random_state=42)\n",
    "    \n",
    "    # Time-based Model (without debt)\n",
    "    model_time = LinearRegression()\n",
    "    model_time.fit(X_train_time, y_train)\n",
    "    y_pred_time = model_time.predict(X_test_time)\n",
    "    \n",
    "    mse_time = mean_squared_error(y_test, y_pred_time)\n",
    "    r2_time = r2_score(y_test, y_pred_time)\n",
    "\n",
    "    # Time + Debt Model (with debt)\n",
    "    model_time_debt = LinearRegression()\n",
    "    model_time_debt.fit(X_train_time_debt, y_train_debt)\n",
    "    y_pred_time_debt = model_time_debt.predict(X_test_time_debt)\n",
    "    \n",
    "    mse_time_debt = mean_squared_error(y_test_debt, y_pred_time_debt)\n",
    "    r2_time_debt = r2_score(y_test_debt, y_pred_time_debt)\n",
    "    \n",
    "    # Store the results for this company\n",
    "    results.append({\n",
    "        'Company': company,\n",
    "        'MSE_Time': mse_time,\n",
    "        'R2_Time': r2_time,\n",
    "        'MSE_Time_Debt': mse_time_debt,\n",
    "        'R2_Time_Debt': r2_time_debt\n",
    "    })"
   ],
   "metadata": {
    "collapsed": false,
    "ExecuteTime": {
     "end_time": "2024-10-31T14:14:41.107063800Z",
     "start_time": "2024-10-31T14:14:35.220798200Z"
    }
   },
   "id": "bab53dc9ba68adbd",
   "execution_count": 5
  },
  {
   "cell_type": "code",
   "outputs": [
    {
     "data": {
      "text/plain": "             Company   MSE_Time   R2_Time  MSE_Time_Debt  R2_Time_Debt\n0  1-800 FLOWERS.COM   1.980127 -0.156740       1.348132      0.212455\n1                8x8  25.270798  0.401286      20.615548      0.511578\n2                AAR   2.996837  0.061889       3.664258     -0.147037\n3      AB Electrolux   0.084810  0.859839       0.101314      0.832564\n4     ABM Industries   0.209584  0.894477       0.033666      0.983050",
      "text/html": "<div>\n<style scoped>\n    .dataframe tbody tr th:only-of-type {\n        vertical-align: middle;\n    }\n\n    .dataframe tbody tr th {\n        vertical-align: top;\n    }\n\n    .dataframe thead th {\n        text-align: right;\n    }\n</style>\n<table border=\"1\" class=\"dataframe\">\n  <thead>\n    <tr style=\"text-align: right;\">\n      <th></th>\n      <th>Company</th>\n      <th>MSE_Time</th>\n      <th>R2_Time</th>\n      <th>MSE_Time_Debt</th>\n      <th>R2_Time_Debt</th>\n    </tr>\n  </thead>\n  <tbody>\n    <tr>\n      <th>0</th>\n      <td>1-800 FLOWERS.COM</td>\n      <td>1.980127</td>\n      <td>-0.156740</td>\n      <td>1.348132</td>\n      <td>0.212455</td>\n    </tr>\n    <tr>\n      <th>1</th>\n      <td>8x8</td>\n      <td>25.270798</td>\n      <td>0.401286</td>\n      <td>20.615548</td>\n      <td>0.511578</td>\n    </tr>\n    <tr>\n      <th>2</th>\n      <td>AAR</td>\n      <td>2.996837</td>\n      <td>0.061889</td>\n      <td>3.664258</td>\n      <td>-0.147037</td>\n    </tr>\n    <tr>\n      <th>3</th>\n      <td>AB Electrolux</td>\n      <td>0.084810</td>\n      <td>0.859839</td>\n      <td>0.101314</td>\n      <td>0.832564</td>\n    </tr>\n    <tr>\n      <th>4</th>\n      <td>ABM Industries</td>\n      <td>0.209584</td>\n      <td>0.894477</td>\n      <td>0.033666</td>\n      <td>0.983050</td>\n    </tr>\n  </tbody>\n</table>\n</div>"
     },
     "execution_count": 6,
     "metadata": {},
     "output_type": "execute_result"
    }
   ],
   "source": [
    "results_df = pd.DataFrame(results)\n",
    "\n",
    "results_df.head()"
   ],
   "metadata": {
    "collapsed": false,
    "ExecuteTime": {
     "end_time": "2024-10-31T14:14:41.118571700Z",
     "start_time": "2024-10-31T14:14:41.107063800Z"
    }
   },
   "id": "e4b62f7e9c54fae",
   "execution_count": 6
  },
  {
   "cell_type": "code",
   "outputs": [
    {
     "data": {
      "text/plain": "                    Company       P_value\n0         1-800 FLOWERS.COM  1.172286e-02\n1                       8x8  6.668755e-02\n2                       AAR  1.000000e+00\n3             AB Electrolux  1.000000e+00\n4            ABM Industries  3.661107e-08\n..                      ...           ...\n842    YPF Sociedad Anonima  9.711487e-02\n843              Yamaha DRC  6.930841e-03\n844                   Zions  1.826633e-10\n845  Zurich Insurance Group  1.208662e-02\n846                  inTest  3.258912e-02\n\n[847 rows x 2 columns]",
      "text/html": "<div>\n<style scoped>\n    .dataframe tbody tr th:only-of-type {\n        vertical-align: middle;\n    }\n\n    .dataframe tbody tr th {\n        vertical-align: top;\n    }\n\n    .dataframe thead th {\n        text-align: right;\n    }\n</style>\n<table border=\"1\" class=\"dataframe\">\n  <thead>\n    <tr style=\"text-align: right;\">\n      <th></th>\n      <th>Company</th>\n      <th>P_value</th>\n    </tr>\n  </thead>\n  <tbody>\n    <tr>\n      <th>0</th>\n      <td>1-800 FLOWERS.COM</td>\n      <td>1.172286e-02</td>\n    </tr>\n    <tr>\n      <th>1</th>\n      <td>8x8</td>\n      <td>6.668755e-02</td>\n    </tr>\n    <tr>\n      <th>2</th>\n      <td>AAR</td>\n      <td>1.000000e+00</td>\n    </tr>\n    <tr>\n      <th>3</th>\n      <td>AB Electrolux</td>\n      <td>1.000000e+00</td>\n    </tr>\n    <tr>\n      <th>4</th>\n      <td>ABM Industries</td>\n      <td>3.661107e-08</td>\n    </tr>\n    <tr>\n      <th>...</th>\n      <td>...</td>\n      <td>...</td>\n    </tr>\n    <tr>\n      <th>842</th>\n      <td>YPF Sociedad Anonima</td>\n      <td>9.711487e-02</td>\n    </tr>\n    <tr>\n      <th>843</th>\n      <td>Yamaha DRC</td>\n      <td>6.930841e-03</td>\n    </tr>\n    <tr>\n      <th>844</th>\n      <td>Zions</td>\n      <td>1.826633e-10</td>\n    </tr>\n    <tr>\n      <th>845</th>\n      <td>Zurich Insurance Group</td>\n      <td>1.208662e-02</td>\n    </tr>\n    <tr>\n      <th>846</th>\n      <td>inTest</td>\n      <td>3.258912e-02</td>\n    </tr>\n  </tbody>\n</table>\n<p>847 rows × 2 columns</p>\n</div>"
     },
     "execution_count": 7,
     "metadata": {},
     "output_type": "execute_result"
    }
   ],
   "source": [
    "def f_test(mse_reduced, mse_full, n, k_reduced, k_full):\n",
    "    numerator = (mse_reduced - mse_full) / (k_full - k_reduced)\n",
    "    denominator = mse_full / (n - k_full)\n",
    "    return numerator / denominator\n",
    "\n",
    "n = 20\n",
    "k_reduced = 2\n",
    "k_full = 3\n",
    "\n",
    "results_df['F_statistic'] = results_df.apply(lambda row: f_test(row['MSE_Time'], row['MSE_Time_Debt'], n, k_reduced, k_full), axis=1)\n",
    "\n",
    "results_df['P_value'] = results_df['F_statistic'].apply(lambda x: stats.f.sf(x, k_full - k_reduced, n - k_full))\n",
    "\n",
    "results_df[['Company', 'P_value']]"
   ],
   "metadata": {
    "collapsed": false,
    "ExecuteTime": {
     "end_time": "2024-10-31T14:14:41.238668200Z",
     "start_time": "2024-10-31T14:14:41.118571700Z"
    }
   },
   "id": "552c48c34caa03db",
   "execution_count": 7
  },
  {
   "cell_type": "code",
   "outputs": [
    {
     "data": {
      "text/plain": "                     Company       P_value\n0          1-800 FLOWERS.COM  1.172286e-02\n4             ABM Industries  3.661107e-08\n5                     ACADIA  3.506727e-02\n7                        AMD  1.363578e-02\n8    AMN Healthcare Services  1.643964e-03\n..                       ...           ...\n841              Xcel Energy  5.838227e-05\n843               Yamaha DRC  6.930841e-03\n844                    Zions  1.826633e-10\n845   Zurich Insurance Group  1.208662e-02\n846                   inTest  3.258912e-02\n\n[405 rows x 2 columns]",
      "text/html": "<div>\n<style scoped>\n    .dataframe tbody tr th:only-of-type {\n        vertical-align: middle;\n    }\n\n    .dataframe tbody tr th {\n        vertical-align: top;\n    }\n\n    .dataframe thead th {\n        text-align: right;\n    }\n</style>\n<table border=\"1\" class=\"dataframe\">\n  <thead>\n    <tr style=\"text-align: right;\">\n      <th></th>\n      <th>Company</th>\n      <th>P_value</th>\n    </tr>\n  </thead>\n  <tbody>\n    <tr>\n      <th>0</th>\n      <td>1-800 FLOWERS.COM</td>\n      <td>1.172286e-02</td>\n    </tr>\n    <tr>\n      <th>4</th>\n      <td>ABM Industries</td>\n      <td>3.661107e-08</td>\n    </tr>\n    <tr>\n      <th>5</th>\n      <td>ACADIA</td>\n      <td>3.506727e-02</td>\n    </tr>\n    <tr>\n      <th>7</th>\n      <td>AMD</td>\n      <td>1.363578e-02</td>\n    </tr>\n    <tr>\n      <th>8</th>\n      <td>AMN Healthcare Services</td>\n      <td>1.643964e-03</td>\n    </tr>\n    <tr>\n      <th>...</th>\n      <td>...</td>\n      <td>...</td>\n    </tr>\n    <tr>\n      <th>841</th>\n      <td>Xcel Energy</td>\n      <td>5.838227e-05</td>\n    </tr>\n    <tr>\n      <th>843</th>\n      <td>Yamaha DRC</td>\n      <td>6.930841e-03</td>\n    </tr>\n    <tr>\n      <th>844</th>\n      <td>Zions</td>\n      <td>1.826633e-10</td>\n    </tr>\n    <tr>\n      <th>845</th>\n      <td>Zurich Insurance Group</td>\n      <td>1.208662e-02</td>\n    </tr>\n    <tr>\n      <th>846</th>\n      <td>inTest</td>\n      <td>3.258912e-02</td>\n    </tr>\n  </tbody>\n</table>\n<p>405 rows × 2 columns</p>\n</div>"
     },
     "execution_count": 8,
     "metadata": {},
     "output_type": "execute_result"
    }
   ],
   "source": [
    "results_df[results_df['P_value'] < 0.05][['Company', 'P_value']]"
   ],
   "metadata": {
    "collapsed": false,
    "ExecuteTime": {
     "end_time": "2024-10-31T14:14:41.479783200Z",
     "start_time": "2024-10-31T14:14:41.464152500Z"
    }
   },
   "id": "cb258dc2eb83dce9",
   "execution_count": 8
  },
  {
   "cell_type": "code",
   "outputs": [
    {
     "data": {
      "text/plain": "0.3977776062149023"
     },
     "execution_count": 9,
     "metadata": {},
     "output_type": "execute_result"
    }
   ],
   "source": [
    "results_df['P_value'].mean()"
   ],
   "metadata": {
    "collapsed": false,
    "ExecuteTime": {
     "end_time": "2024-10-31T14:14:43.924564700Z",
     "start_time": "2024-10-31T14:14:43.917567600Z"
    }
   },
   "id": "be435f472ff10c33",
   "execution_count": 9
  },
  {
   "cell_type": "markdown",
   "source": [
    "## Covariance analysis"
   ],
   "metadata": {
    "collapsed": false
   },
   "id": "284d21ae0c5dd837"
  },
  {
   "cell_type": "code",
   "outputs": [
    {
     "name": "stderr",
     "output_type": "stream",
     "text": [
      "C:\\Users\\Danila\\AppData\\Local\\Temp\\ipykernel_10148\\702562892.py:6: DeprecationWarning: DataFrameGroupBy.apply operated on the grouping columns. This behavior is deprecated, and in a future version of pandas the grouping columns will be excluded from the operation. Either pass `include_groups=False` to exclude the groupings or explicitly select the grouping columns after groupby to silence this warning.\n",
      "  covariance_table = analysis_data.groupby('Company').apply(calculate_covariance).reset_index()\n"
     ]
    },
    {
     "data": {
      "text/plain": "                    Company  price_ratio_covariance\n0         1-800 FLOWERS.COM                0.078226\n1                       8x8                0.457738\n2                       AAR                0.191856\n3             AB Electrolux                0.055100\n4            ABM Industries                0.156988\n..                      ...                     ...\n842    YPF Sociedad Anonima               -0.080154\n843              Yamaha DRC                0.129992\n844                   Zions                0.013791\n845  Zurich Insurance Group                0.921701\n846                  inTest                0.054611\n\n[847 rows x 2 columns]",
      "text/html": "<div>\n<style scoped>\n    .dataframe tbody tr th:only-of-type {\n        vertical-align: middle;\n    }\n\n    .dataframe tbody tr th {\n        vertical-align: top;\n    }\n\n    .dataframe thead th {\n        text-align: right;\n    }\n</style>\n<table border=\"1\" class=\"dataframe\">\n  <thead>\n    <tr style=\"text-align: right;\">\n      <th></th>\n      <th>Company</th>\n      <th>price_ratio_covariance</th>\n    </tr>\n  </thead>\n  <tbody>\n    <tr>\n      <th>0</th>\n      <td>1-800 FLOWERS.COM</td>\n      <td>0.078226</td>\n    </tr>\n    <tr>\n      <th>1</th>\n      <td>8x8</td>\n      <td>0.457738</td>\n    </tr>\n    <tr>\n      <th>2</th>\n      <td>AAR</td>\n      <td>0.191856</td>\n    </tr>\n    <tr>\n      <th>3</th>\n      <td>AB Electrolux</td>\n      <td>0.055100</td>\n    </tr>\n    <tr>\n      <th>4</th>\n      <td>ABM Industries</td>\n      <td>0.156988</td>\n    </tr>\n    <tr>\n      <th>...</th>\n      <td>...</td>\n      <td>...</td>\n    </tr>\n    <tr>\n      <th>842</th>\n      <td>YPF Sociedad Anonima</td>\n      <td>-0.080154</td>\n    </tr>\n    <tr>\n      <th>843</th>\n      <td>Yamaha DRC</td>\n      <td>0.129992</td>\n    </tr>\n    <tr>\n      <th>844</th>\n      <td>Zions</td>\n      <td>0.013791</td>\n    </tr>\n    <tr>\n      <th>845</th>\n      <td>Zurich Insurance Group</td>\n      <td>0.921701</td>\n    </tr>\n    <tr>\n      <th>846</th>\n      <td>inTest</td>\n      <td>0.054611</td>\n    </tr>\n  </tbody>\n</table>\n<p>847 rows × 2 columns</p>\n</div>"
     },
     "execution_count": 19,
     "metadata": {},
     "output_type": "execute_result"
    }
   ],
   "source": [
    "analysis_data = pd.read_csv(\"companies/analysis_data.csv\")\n",
    "\n",
    "def calculate_covariance(group):\n",
    "    return group[['Close', 'Debt']].cov().iloc[0, 1]\n",
    "\n",
    "covariance_table = analysis_data.groupby('Company').apply(calculate_covariance).reset_index()\n",
    "covariance_table.columns = ['Company', 'price_ratio_covariance']\n",
    "\n",
    "covariance_table"
   ],
   "metadata": {
    "collapsed": false,
    "ExecuteTime": {
     "end_time": "2024-10-31T14:24:38.571407400Z",
     "start_time": "2024-10-31T14:24:38.331870300Z"
    }
   },
   "id": "901a963309c8a73d",
   "execution_count": 19
  },
  {
   "cell_type": "code",
   "outputs": [
    {
     "data": {
      "text/plain": "                    Company  price_ratio_covariance\n1                       8x8                0.457738\n2                       AAR                0.191856\n4            ABM Industries                0.156988\n5                    ACADIA                0.185380\n6                      AGCO                0.233167\n..                      ...                     ...\n839  Worthington Industries                0.386847\n840            Wynn Resorts                0.199423\n841             Xcel Energy                0.384612\n843              Yamaha DRC                0.129992\n845  Zurich Insurance Group                0.921701\n\n[463 rows x 2 columns]",
      "text/html": "<div>\n<style scoped>\n    .dataframe tbody tr th:only-of-type {\n        vertical-align: middle;\n    }\n\n    .dataframe tbody tr th {\n        vertical-align: top;\n    }\n\n    .dataframe thead th {\n        text-align: right;\n    }\n</style>\n<table border=\"1\" class=\"dataframe\">\n  <thead>\n    <tr style=\"text-align: right;\">\n      <th></th>\n      <th>Company</th>\n      <th>price_ratio_covariance</th>\n    </tr>\n  </thead>\n  <tbody>\n    <tr>\n      <th>1</th>\n      <td>8x8</td>\n      <td>0.457738</td>\n    </tr>\n    <tr>\n      <th>2</th>\n      <td>AAR</td>\n      <td>0.191856</td>\n    </tr>\n    <tr>\n      <th>4</th>\n      <td>ABM Industries</td>\n      <td>0.156988</td>\n    </tr>\n    <tr>\n      <th>5</th>\n      <td>ACADIA</td>\n      <td>0.185380</td>\n    </tr>\n    <tr>\n      <th>6</th>\n      <td>AGCO</td>\n      <td>0.233167</td>\n    </tr>\n    <tr>\n      <th>...</th>\n      <td>...</td>\n      <td>...</td>\n    </tr>\n    <tr>\n      <th>839</th>\n      <td>Worthington Industries</td>\n      <td>0.386847</td>\n    </tr>\n    <tr>\n      <th>840</th>\n      <td>Wynn Resorts</td>\n      <td>0.199423</td>\n    </tr>\n    <tr>\n      <th>841</th>\n      <td>Xcel Energy</td>\n      <td>0.384612</td>\n    </tr>\n    <tr>\n      <th>843</th>\n      <td>Yamaha DRC</td>\n      <td>0.129992</td>\n    </tr>\n    <tr>\n      <th>845</th>\n      <td>Zurich Insurance Group</td>\n      <td>0.921701</td>\n    </tr>\n  </tbody>\n</table>\n<p>463 rows × 2 columns</p>\n</div>"
     },
     "execution_count": 20,
     "metadata": {},
     "output_type": "execute_result"
    }
   ],
   "source": [
    "significant_table = covariance_table[(covariance_table['price_ratio_covariance'] < -0.1) | (covariance_table['price_ratio_covariance'] > 0.1)]\n",
    "significant_table"
   ],
   "metadata": {
    "collapsed": false,
    "ExecuteTime": {
     "end_time": "2024-10-31T14:24:40.737686600Z",
     "start_time": "2024-10-31T14:24:40.730916400Z"
    }
   },
   "id": "2b43eb8e8716105b",
   "execution_count": 20
  },
  {
   "cell_type": "code",
   "outputs": [
    {
     "name": "stdout",
     "output_type": "stream",
     "text": [
      "0.28448033731948247\n"
     ]
    },
    {
     "data": {
      "text/plain": "                     Company  price_ratio_covariance       P_value\n0          1-800 FLOWERS.COM                0.078226  1.172286e-02\n1             ABM Industries                0.156988  3.661107e-08\n2                     ACADIA                0.185380  3.506727e-02\n3                        AMD                0.290524  1.363578e-02\n4    AMN Healthcare Services                0.245535  1.643964e-03\n..                       ...                     ...           ...\n400              Xcel Energy                0.384612  5.838227e-05\n401               Yamaha DRC                0.129992  6.930841e-03\n402                    Zions                0.013791  1.826633e-10\n403   Zurich Insurance Group                0.921701  1.208662e-02\n404                   inTest                0.054611  3.258912e-02\n\n[405 rows x 3 columns]",
      "text/html": "<div>\n<style scoped>\n    .dataframe tbody tr th:only-of-type {\n        vertical-align: middle;\n    }\n\n    .dataframe tbody tr th {\n        vertical-align: top;\n    }\n\n    .dataframe thead th {\n        text-align: right;\n    }\n</style>\n<table border=\"1\" class=\"dataframe\">\n  <thead>\n    <tr style=\"text-align: right;\">\n      <th></th>\n      <th>Company</th>\n      <th>price_ratio_covariance</th>\n      <th>P_value</th>\n    </tr>\n  </thead>\n  <tbody>\n    <tr>\n      <th>0</th>\n      <td>1-800 FLOWERS.COM</td>\n      <td>0.078226</td>\n      <td>1.172286e-02</td>\n    </tr>\n    <tr>\n      <th>1</th>\n      <td>ABM Industries</td>\n      <td>0.156988</td>\n      <td>3.661107e-08</td>\n    </tr>\n    <tr>\n      <th>2</th>\n      <td>ACADIA</td>\n      <td>0.185380</td>\n      <td>3.506727e-02</td>\n    </tr>\n    <tr>\n      <th>3</th>\n      <td>AMD</td>\n      <td>0.290524</td>\n      <td>1.363578e-02</td>\n    </tr>\n    <tr>\n      <th>4</th>\n      <td>AMN Healthcare Services</td>\n      <td>0.245535</td>\n      <td>1.643964e-03</td>\n    </tr>\n    <tr>\n      <th>...</th>\n      <td>...</td>\n      <td>...</td>\n      <td>...</td>\n    </tr>\n    <tr>\n      <th>400</th>\n      <td>Xcel Energy</td>\n      <td>0.384612</td>\n      <td>5.838227e-05</td>\n    </tr>\n    <tr>\n      <th>401</th>\n      <td>Yamaha DRC</td>\n      <td>0.129992</td>\n      <td>6.930841e-03</td>\n    </tr>\n    <tr>\n      <th>402</th>\n      <td>Zions</td>\n      <td>0.013791</td>\n      <td>1.826633e-10</td>\n    </tr>\n    <tr>\n      <th>403</th>\n      <td>Zurich Insurance Group</td>\n      <td>0.921701</td>\n      <td>1.208662e-02</td>\n    </tr>\n    <tr>\n      <th>404</th>\n      <td>inTest</td>\n      <td>0.054611</td>\n      <td>3.258912e-02</td>\n    </tr>\n  </tbody>\n</table>\n<p>405 rows × 3 columns</p>\n</div>"
     },
     "execution_count": 21,
     "metadata": {},
     "output_type": "execute_result"
    }
   ],
   "source": [
    "# model improvement and relatively high covariance\n",
    "merged_data = pd.merge(covariance_table, results_df[results_df['P_value'] < 0.05][['Company', 'P_value']], on='Company', how='inner')\n",
    "print(merged_data['price_ratio_covariance'].mean())\n",
    "merged_data"
   ],
   "metadata": {
    "collapsed": false,
    "ExecuteTime": {
     "end_time": "2024-10-31T14:24:42.514058800Z",
     "start_time": "2024-10-31T14:24:42.502737Z"
    }
   },
   "id": "c4237e18501ada09",
   "execution_count": 21
  },
  {
   "cell_type": "code",
   "outputs": [],
   "source": [
    "import statsmodels.api as sm\n",
    "\n",
    "\n",
    "price_change_results = []\n",
    "needed_companies = pd.merge(df, merged_data, on='Company', how='inner')\n",
    "for company, group in grouped_companies:\n",
    "    X = sm.add_constant(group[['Debt', 'Time']])  # Adding both debt and time\n",
    "    y = group['Close']\n",
    "\n",
    "    model = sm.OLS(y, X)\n",
    "    results = model.fit()\n",
    "\n",
    "    slope_debt = results.params['Debt']  # Coefficient for debt ratio\n",
    "    slope_time = results.params['Time']  # Coefficient for time (trend)\n",
    "\n",
    "    price_change_for_1_percent = slope_debt * 0.01  # Effect of 1% change in debt ratio\n",
    "\n",
    "    price_change_results.append({\n",
    "        'Company': company,\n",
    "        'Debt Slope (per unit)': slope_debt,\n",
    "        'Time Slope': slope_time,\n",
    "        'Price Change for 1% Debt Ratio Change': price_change_for_1_percent\n",
    "    })\n",
    "\n",
    "price_change_df = pd.DataFrame(price_change_results)"
   ],
   "metadata": {
    "collapsed": false,
    "ExecuteTime": {
     "end_time": "2024-10-31T14:15:42.815324300Z",
     "start_time": "2024-10-31T14:15:41.843269100Z"
    }
   },
   "id": "d1d085170d98f14f",
   "execution_count": 14
  },
  {
   "cell_type": "code",
   "outputs": [
    {
     "name": "stdout",
     "output_type": "stream",
     "text": [
      "Average Price Change for 1% Debt Ratio Change: 8.695469141360142\n",
      "Average Standard Error of Debt Slope: 4.916035118440355\n",
      "Average Confidence Interval for Debt Slope Effect (1% Debt Change): (-1.6795153876307791, 19.070453670351064)\n",
      "Number of Companies with Significant Debt Effect: 299\n"
     ]
    }
   ],
   "source": [
    "import statsmodels.api as sm\n",
    "import pandas as pd\n",
    "\n",
    "price_change_results = []\n",
    "needed_companies = pd.merge(df, merged_data, on='Company', how='inner')\n",
    "\n",
    "for company, group in grouped_companies:\n",
    "    X = sm.add_constant(group[['Debt', 'Time']])  # Adding both debt and time\n",
    "    y = group['Close']\n",
    "\n",
    "    model = sm.OLS(y, X)\n",
    "    results = model.fit()\n",
    "\n",
    "    slope_debt = results.params['Debt']  # Coefficient for debt ratio\n",
    "    slope_time = results.params['Time']  # Coefficient for time (trend)\n",
    "    price_change_for_1_percent = slope_debt * 0.01  # Effect of 1% change in debt ratio\n",
    "\n",
    "    # Confidence interval for debt slope\n",
    "    conf_int_debt = results.conf_int().loc['Debt'].values  # CI for debt coefficient\n",
    "    std_err_debt = results.bse['Debt']  # Standard error for debt coefficient\n",
    "    p_value_debt = results.pvalues['Debt']  # p-value for debt coefficient significance\n",
    "\n",
    "    price_change_results.append({\n",
    "        'Company': company,\n",
    "        'Debt Slope (per unit)': slope_debt,\n",
    "        'Time Slope': slope_time,\n",
    "        'Price Change for 1% Debt Ratio Change': price_change_for_1_percent,\n",
    "        'Debt Slope CI Lower': conf_int_debt[0],\n",
    "        'Debt Slope CI Upper': conf_int_debt[1],\n",
    "        'Debt Slope Std Error': std_err_debt,\n",
    "        'Debt Slope p-value': p_value_debt\n",
    "    })\n",
    "\n",
    "# Creating the final DataFrame for analysis\n",
    "price_change_df = pd.DataFrame(price_change_results)\n",
    "needed_companies = pd.merge(price_change_df, merged_data, on='Company', how='inner')\n",
    "\n",
    "# Calculate the mean effect, standard error, and confidence interval across companies\n",
    "mean_price_change = needed_companies['Price Change for 1% Debt Ratio Change'].mean() * 100\n",
    "mean_std_err = needed_companies['Debt Slope Std Error'].mean()\n",
    "mean_ci_lower = needed_companies['Debt Slope CI Lower'].mean() * 0.01 * 100  # Convert to percent\n",
    "mean_ci_upper = needed_companies['Debt Slope CI Upper'].mean() * 0.01 * 100  # Convert to percent\n",
    "significant_effect_count = (needed_companies['Debt Slope p-value'] < 0.05).sum()\n",
    "\n",
    "print(\"Average Price Change for 1% Debt Ratio Change:\", mean_price_change)\n",
    "print(\"Average Standard Error of Debt Slope:\", mean_std_err)\n",
    "print(\"Average Confidence Interval for Debt Slope Effect (1% Debt Change):\", (mean_ci_lower, mean_ci_upper))\n",
    "print(\"Number of Companies with Significant Debt Effect:\", significant_effect_count)"
   ],
   "metadata": {
    "collapsed": false,
    "ExecuteTime": {
     "end_time": "2024-10-31T14:24:47.372495600Z",
     "start_time": "2024-10-31T14:24:46.028034600Z"
    }
   },
   "id": "e3f0fa9d5a4cbf",
   "execution_count": 22
  },
  {
   "cell_type": "code",
   "outputs": [
    {
     "data": {
      "text/plain": "9.025155708540826"
     },
     "execution_count": 15,
     "metadata": {},
     "output_type": "execute_result"
    }
   ],
   "source": [
    "# average change in stock price for 1 percent change in debt ratio\n",
    "price_change_df['Price Change for 1% Debt Ratio Change'].mean() * 100"
   ],
   "metadata": {
    "collapsed": false,
    "ExecuteTime": {
     "end_time": "2024-10-31T14:15:45.183902500Z",
     "start_time": "2024-10-31T14:15:45.179378Z"
    }
   },
   "id": "44c165b514be3423",
   "execution_count": 15
  },
  {
   "cell_type": "code",
   "outputs": [
    {
     "data": {
      "text/plain": "8.695469141360142"
     },
     "execution_count": 16,
     "metadata": {},
     "output_type": "execute_result"
    }
   ],
   "source": [
    "needed_companies = pd.merge(price_change_df, merged_data, on='Company', how='inner')\n",
    "needed_companies['Price Change for 1% Debt Ratio Change'].mean() * 100"
   ],
   "metadata": {
    "collapsed": false,
    "ExecuteTime": {
     "end_time": "2024-10-31T14:15:46.996874900Z",
     "start_time": "2024-10-31T14:15:46.989873700Z"
    }
   },
   "id": "6c7baafdf983a3d7",
   "execution_count": 16
  },
  {
   "cell_type": "code",
   "outputs": [
    {
     "data": {
      "text/plain": "9.327244078921316"
     },
     "execution_count": 17,
     "metadata": {},
     "output_type": "execute_result"
    }
   ],
   "source": [
    "needed_companies = pd.merge(price_change_df, results_df[results_df['P_value'] >= 0.05][['Company', 'P_value']], on='Company', how='inner')\n",
    "needed_companies['Price Change for 1% Debt Ratio Change'].mean() * 100"
   ],
   "metadata": {
    "collapsed": false,
    "ExecuteTime": {
     "end_time": "2024-10-31T14:16:02.815937700Z",
     "start_time": "2024-10-31T14:16:02.812436700Z"
    }
   },
   "id": "6662c3cff58ba2bc",
   "execution_count": 17
  },
  {
   "cell_type": "markdown",
   "source": [
    "## Correlation analysis "
   ],
   "metadata": {
    "collapsed": false
   },
   "id": "9ef7753703dd419"
  },
  {
   "cell_type": "code",
   "outputs": [
    {
     "name": "stdout",
     "output_type": "stream",
     "text": [
      "All companies with counted correlation:  847\n"
     ]
    },
    {
     "data": {
      "text/plain": "                    Company  Correlation\n0         1-800 FLOWERS.COM     0.644178\n1                       8x8     0.684363\n2                       AAR     0.734995\n3             AB Electrolux     0.623852\n4            ABM Industries     0.968201\n..                      ...          ...\n842    YPF Sociedad Anonima    -0.773401\n843              Yamaha DRC     0.880036\n844                   Zions     0.292352\n845  Zurich Insurance Group     0.911552\n846                  inTest     0.670510\n\n[847 rows x 2 columns]",
      "text/html": "<div>\n<style scoped>\n    .dataframe tbody tr th:only-of-type {\n        vertical-align: middle;\n    }\n\n    .dataframe tbody tr th {\n        vertical-align: top;\n    }\n\n    .dataframe thead th {\n        text-align: right;\n    }\n</style>\n<table border=\"1\" class=\"dataframe\">\n  <thead>\n    <tr style=\"text-align: right;\">\n      <th></th>\n      <th>Company</th>\n      <th>Correlation</th>\n    </tr>\n  </thead>\n  <tbody>\n    <tr>\n      <th>0</th>\n      <td>1-800 FLOWERS.COM</td>\n      <td>0.644178</td>\n    </tr>\n    <tr>\n      <th>1</th>\n      <td>8x8</td>\n      <td>0.684363</td>\n    </tr>\n    <tr>\n      <th>2</th>\n      <td>AAR</td>\n      <td>0.734995</td>\n    </tr>\n    <tr>\n      <th>3</th>\n      <td>AB Electrolux</td>\n      <td>0.623852</td>\n    </tr>\n    <tr>\n      <th>4</th>\n      <td>ABM Industries</td>\n      <td>0.968201</td>\n    </tr>\n    <tr>\n      <th>...</th>\n      <td>...</td>\n      <td>...</td>\n    </tr>\n    <tr>\n      <th>842</th>\n      <td>YPF Sociedad Anonima</td>\n      <td>-0.773401</td>\n    </tr>\n    <tr>\n      <th>843</th>\n      <td>Yamaha DRC</td>\n      <td>0.880036</td>\n    </tr>\n    <tr>\n      <th>844</th>\n      <td>Zions</td>\n      <td>0.292352</td>\n    </tr>\n    <tr>\n      <th>845</th>\n      <td>Zurich Insurance Group</td>\n      <td>0.911552</td>\n    </tr>\n    <tr>\n      <th>846</th>\n      <td>inTest</td>\n      <td>0.670510</td>\n    </tr>\n  </tbody>\n</table>\n<p>847 rows × 2 columns</p>\n</div>"
     },
     "execution_count": 66,
     "metadata": {},
     "output_type": "execute_result"
    }
   ],
   "source": [
    "correlation_results = pd.DataFrame(columns=['Company', 'Correlation'])\n",
    "\n",
    "correlation_results = []\n",
    "\n",
    "for company, group in analysis_data.groupby('Company'):\n",
    "    group = group.dropna(subset=['Debt', 'Close'])\n",
    "    correlation = group['Debt'].corr(group['Close'])\n",
    "    correlation_results.append({'Company': company, 'Correlation': correlation})\n",
    "\n",
    "correlation_results_df = pd.DataFrame(correlation_results)\n",
    "\n",
    "print(\"All companies with counted correlation: \", len(correlation_results_df))\n",
    "correlation_results_df"
   ],
   "metadata": {
    "collapsed": false,
    "ExecuteTime": {
     "end_time": "2024-10-08T19:58:56.798985200Z",
     "start_time": "2024-10-08T19:58:56.316644100Z"
    }
   },
   "id": "89b2c877535ae89a",
   "execution_count": 66
  },
  {
   "cell_type": "code",
   "outputs": [
    {
     "data": {
      "text/plain": "                    Company  Correlation\n0         1-800 FLOWERS.COM     0.644178\n1                       8x8     0.684363\n2                       AAR     0.734995\n3             AB Electrolux     0.623852\n4            ABM Industries     0.968201\n..                      ...          ...\n841             Xcel Energy     0.951820\n842    YPF Sociedad Anonima    -0.773401\n843              Yamaha DRC     0.880036\n845  Zurich Insurance Group     0.911552\n846                  inTest     0.670510\n\n[629 rows x 2 columns]",
      "text/html": "<div>\n<style scoped>\n    .dataframe tbody tr th:only-of-type {\n        vertical-align: middle;\n    }\n\n    .dataframe tbody tr th {\n        vertical-align: top;\n    }\n\n    .dataframe thead th {\n        text-align: right;\n    }\n</style>\n<table border=\"1\" class=\"dataframe\">\n  <thead>\n    <tr style=\"text-align: right;\">\n      <th></th>\n      <th>Company</th>\n      <th>Correlation</th>\n    </tr>\n  </thead>\n  <tbody>\n    <tr>\n      <th>0</th>\n      <td>1-800 FLOWERS.COM</td>\n      <td>0.644178</td>\n    </tr>\n    <tr>\n      <th>1</th>\n      <td>8x8</td>\n      <td>0.684363</td>\n    </tr>\n    <tr>\n      <th>2</th>\n      <td>AAR</td>\n      <td>0.734995</td>\n    </tr>\n    <tr>\n      <th>3</th>\n      <td>AB Electrolux</td>\n      <td>0.623852</td>\n    </tr>\n    <tr>\n      <th>4</th>\n      <td>ABM Industries</td>\n      <td>0.968201</td>\n    </tr>\n    <tr>\n      <th>...</th>\n      <td>...</td>\n      <td>...</td>\n    </tr>\n    <tr>\n      <th>841</th>\n      <td>Xcel Energy</td>\n      <td>0.951820</td>\n    </tr>\n    <tr>\n      <th>842</th>\n      <td>YPF Sociedad Anonima</td>\n      <td>-0.773401</td>\n    </tr>\n    <tr>\n      <th>843</th>\n      <td>Yamaha DRC</td>\n      <td>0.880036</td>\n    </tr>\n    <tr>\n      <th>845</th>\n      <td>Zurich Insurance Group</td>\n      <td>0.911552</td>\n    </tr>\n    <tr>\n      <th>846</th>\n      <td>inTest</td>\n      <td>0.670510</td>\n    </tr>\n  </tbody>\n</table>\n<p>629 rows × 2 columns</p>\n</div>"
     },
     "execution_count": 68,
     "metadata": {},
     "output_type": "execute_result"
    }
   ],
   "source": [
    "only_strong_corr = correlation_results_df[(correlation_results_df['Correlation'] > 0.5) | (correlation_results_df['Correlation'] < -0.5)]\n",
    "only_strong_corr"
   ],
   "metadata": {
    "collapsed": false,
    "ExecuteTime": {
     "end_time": "2024-10-08T19:59:11.936965500Z",
     "start_time": "2024-10-08T19:59:11.926178800Z"
    }
   },
   "id": "5bf8f9efae878561",
   "execution_count": 68
  },
  {
   "cell_type": "code",
   "outputs": [
    {
     "data": {
      "text/plain": "                    Company  Correlation       p_value\n0         1-800 FLOWERS.COM     0.644178  1.623331e-03\n1                       8x8     0.684363  6.221095e-04\n2                       AAR     0.734995  1.474316e-04\n3             AB Electrolux     0.623852  2.509877e-03\n4            ABM Industries     0.968201  6.856737e-13\n..                      ...          ...           ...\n841             Xcel Energy     0.951820  3.330869e-11\n842    YPF Sociedad Anonima    -0.773401  3.926960e-05\n843              Yamaha DRC     0.880036  1.452292e-07\n845  Zurich Insurance Group     0.911552  9.113072e-09\n846                  inTest     0.670510  8.798275e-04\n\n[667 rows x 3 columns]",
      "text/html": "<div>\n<style scoped>\n    .dataframe tbody tr th:only-of-type {\n        vertical-align: middle;\n    }\n\n    .dataframe tbody tr th {\n        vertical-align: top;\n    }\n\n    .dataframe thead th {\n        text-align: right;\n    }\n</style>\n<table border=\"1\" class=\"dataframe\">\n  <thead>\n    <tr style=\"text-align: right;\">\n      <th></th>\n      <th>Company</th>\n      <th>Correlation</th>\n      <th>p_value</th>\n    </tr>\n  </thead>\n  <tbody>\n    <tr>\n      <th>0</th>\n      <td>1-800 FLOWERS.COM</td>\n      <td>0.644178</td>\n      <td>1.623331e-03</td>\n    </tr>\n    <tr>\n      <th>1</th>\n      <td>8x8</td>\n      <td>0.684363</td>\n      <td>6.221095e-04</td>\n    </tr>\n    <tr>\n      <th>2</th>\n      <td>AAR</td>\n      <td>0.734995</td>\n      <td>1.474316e-04</td>\n    </tr>\n    <tr>\n      <th>3</th>\n      <td>AB Electrolux</td>\n      <td>0.623852</td>\n      <td>2.509877e-03</td>\n    </tr>\n    <tr>\n      <th>4</th>\n      <td>ABM Industries</td>\n      <td>0.968201</td>\n      <td>6.856737e-13</td>\n    </tr>\n    <tr>\n      <th>...</th>\n      <td>...</td>\n      <td>...</td>\n      <td>...</td>\n    </tr>\n    <tr>\n      <th>841</th>\n      <td>Xcel Energy</td>\n      <td>0.951820</td>\n      <td>3.330869e-11</td>\n    </tr>\n    <tr>\n      <th>842</th>\n      <td>YPF Sociedad Anonima</td>\n      <td>-0.773401</td>\n      <td>3.926960e-05</td>\n    </tr>\n    <tr>\n      <th>843</th>\n      <td>Yamaha DRC</td>\n      <td>0.880036</td>\n      <td>1.452292e-07</td>\n    </tr>\n    <tr>\n      <th>845</th>\n      <td>Zurich Insurance Group</td>\n      <td>0.911552</td>\n      <td>9.113072e-09</td>\n    </tr>\n    <tr>\n      <th>846</th>\n      <td>inTest</td>\n      <td>0.670510</td>\n      <td>8.798275e-04</td>\n    </tr>\n  </tbody>\n</table>\n<p>667 rows × 3 columns</p>\n</div>"
     },
     "execution_count": 85,
     "metadata": {},
     "output_type": "execute_result"
    }
   ],
   "source": [
    "from scipy import stats\n",
    "\n",
    "def calculate_correlation_significance(r, n):\n",
    "    # Calculate t-statistic\n",
    "    t = r * ((n - 2) ** 0.5) / ((1 - r ** 2) ** 0.5)\n",
    "    # Calculate p-value\n",
    "    p_value = 2 * (1 - stats.t.cdf(abs(t), df=n - 2))  # Two-tailed test\n",
    "    return p_value\n",
    "\n",
    "correlation_results_df['p_value'] = correlation_results_df.apply(lambda row: calculate_correlation_significance(row['Correlation'], len(analysis_data[analysis_data['Company'] == row['Company']])), axis=1)\n",
    "\n",
    "significant_correlations = correlation_results_df[correlation_results_df['p_value'] < 0.05]\n",
    "\n",
    "significant_correlations"
   ],
   "metadata": {
    "collapsed": false,
    "ExecuteTime": {
     "end_time": "2024-10-08T23:17:14.645616600Z",
     "start_time": "2024-10-08T23:17:13.877029600Z"
    }
   },
   "id": "dfe9f95f14d13ca8",
   "execution_count": 85
  },
  {
   "cell_type": "code",
   "outputs": [
    {
     "data": {
      "text/plain": "                    Company  Correlation_x       p_value  Correlation_y\n0                       AAR       0.750695  8.830121e-05       0.750695\n1            ABM Industries       0.967208  9.148238e-13       0.967208\n2                    ACADIA       0.719115  3.527656e-04       0.719115\n3                      AGCO       0.834052  2.625045e-06       0.834052\n4                       AMD       0.738019  1.339425e-04       0.738019\n..                      ...            ...           ...            ...\n492  Worthington Industries       0.925726  1.834775e-09       0.925726\n493             Xcel Energy       0.954326  2.025224e-11       0.954326\n494    YPF Sociedad Anonima      -0.702525  3.837832e-04      -0.702525\n495              Yamaha DRC       0.878915  1.579297e-07       0.878915\n496  Zurich Insurance Group       0.915771  5.825338e-09       0.915771\n\n[497 rows x 4 columns]",
      "text/html": "<div>\n<style scoped>\n    .dataframe tbody tr th:only-of-type {\n        vertical-align: middle;\n    }\n\n    .dataframe tbody tr th {\n        vertical-align: top;\n    }\n\n    .dataframe thead th {\n        text-align: right;\n    }\n</style>\n<table border=\"1\" class=\"dataframe\">\n  <thead>\n    <tr style=\"text-align: right;\">\n      <th></th>\n      <th>Company</th>\n      <th>Correlation_x</th>\n      <th>p_value</th>\n      <th>Correlation_y</th>\n    </tr>\n  </thead>\n  <tbody>\n    <tr>\n      <th>0</th>\n      <td>AAR</td>\n      <td>0.750695</td>\n      <td>8.830121e-05</td>\n      <td>0.750695</td>\n    </tr>\n    <tr>\n      <th>1</th>\n      <td>ABM Industries</td>\n      <td>0.967208</td>\n      <td>9.148238e-13</td>\n      <td>0.967208</td>\n    </tr>\n    <tr>\n      <th>2</th>\n      <td>ACADIA</td>\n      <td>0.719115</td>\n      <td>3.527656e-04</td>\n      <td>0.719115</td>\n    </tr>\n    <tr>\n      <th>3</th>\n      <td>AGCO</td>\n      <td>0.834052</td>\n      <td>2.625045e-06</td>\n      <td>0.834052</td>\n    </tr>\n    <tr>\n      <th>4</th>\n      <td>AMD</td>\n      <td>0.738019</td>\n      <td>1.339425e-04</td>\n      <td>0.738019</td>\n    </tr>\n    <tr>\n      <th>...</th>\n      <td>...</td>\n      <td>...</td>\n      <td>...</td>\n      <td>...</td>\n    </tr>\n    <tr>\n      <th>492</th>\n      <td>Worthington Industries</td>\n      <td>0.925726</td>\n      <td>1.834775e-09</td>\n      <td>0.925726</td>\n    </tr>\n    <tr>\n      <th>493</th>\n      <td>Xcel Energy</td>\n      <td>0.954326</td>\n      <td>2.025224e-11</td>\n      <td>0.954326</td>\n    </tr>\n    <tr>\n      <th>494</th>\n      <td>YPF Sociedad Anonima</td>\n      <td>-0.702525</td>\n      <td>3.837832e-04</td>\n      <td>-0.702525</td>\n    </tr>\n    <tr>\n      <th>495</th>\n      <td>Yamaha DRC</td>\n      <td>0.878915</td>\n      <td>1.579297e-07</td>\n      <td>0.878915</td>\n    </tr>\n    <tr>\n      <th>496</th>\n      <td>Zurich Insurance Group</td>\n      <td>0.915771</td>\n      <td>5.825338e-09</td>\n      <td>0.915771</td>\n    </tr>\n  </tbody>\n</table>\n<p>497 rows × 4 columns</p>\n</div>"
     },
     "execution_count": 46,
     "metadata": {},
     "output_type": "execute_result"
    }
   ],
   "source": [
    "combined_corr_df = pd.merge(significant_correlations, only_strong_corr, on='Company', how='inner')\n",
    "combined_corr_df"
   ],
   "metadata": {
    "collapsed": false,
    "ExecuteTime": {
     "end_time": "2024-10-05T13:21:19.954737300Z",
     "start_time": "2024-10-05T13:21:19.942387800Z"
    }
   },
   "id": "36e7eb1f72af6e2f",
   "execution_count": 46
  },
  {
   "cell_type": "code",
   "outputs": [
    {
     "data": {
      "text/plain": "<Figure size 1200x600 with 1 Axes>",
      "image/png": "[encoded data removed]"
     },
     "metadata": {},
     "output_type": "display_data"
    }
   ],
   "source": [
    "import seaborn as sns\n",
    "\n",
    "sorted_correlation_df = correlation_results_df.sort_values(by='Correlation', ascending=True)\n",
    "\n",
    "plt.figure(figsize=(12, 6))\n",
    "\n",
    "# Create a bar plot\n",
    "plt.scatter(sorted_correlation_df[\"Company\"], sorted_correlation_df[\"Correlation\"])\n",
    "\n",
    "# Set titles and labels\n",
    "plt.title('Correlation between DebtRatio and Close Price for Each Company', fontsize=16)\n",
    "plt.xlabel('Company', fontsize=12)\n",
    "plt.ylabel('Correlation Coefficient', fontsize=12)\n",
    "\n",
    "# Show grid lines\n",
    "plt.grid(axis='y')\n",
    "\n",
    "# Show the plot\n",
    "plt.tight_layout()\n",
    "plt.show()"
   ],
   "metadata": {
    "collapsed": false,
    "ExecuteTime": {
     "end_time": "2024-10-05T13:21:32.629609600Z",
     "start_time": "2024-10-05T13:21:29.330767Z"
    }
   },
   "id": "f6356cdcc5f9064e",
   "execution_count": 47
  },
  {
   "cell_type": "code",
   "outputs": [
    {
     "data": {
      "text/plain": "0.08660990885121418"
     },
     "execution_count": 87,
     "metadata": {},
     "output_type": "execute_result"
    }
   ],
   "source": [
    "correlation_results_df[\"p_value\"].mean()"
   ],
   "metadata": {
    "collapsed": false,
    "ExecuteTime": {
     "end_time": "2024-10-08T23:17:51.756293100Z",
     "start_time": "2024-10-08T23:17:51.746638Z"
    }
   },
   "id": "241a9e3f44098eaf",
   "execution_count": 87
  }
 ],
 "metadata": {
  "kernelspec": {
   "display_name": "Python 3",
   "language": "python",
   "name": "python3"
  },
  "language_info": {
   "codemirror_mode": {
    "name": "ipython",
    "version": 2
   },
   "file_extension": ".py",
   "mimetype": "text/x-python",
   "name": "python",
   "nbconvert_exporter": "python",
   "pygments_lexer": "ipython2",
   "version": "2.7.6"
  }
 },
 "nbformat": 4,
 "nbformat_minor": 5
}
