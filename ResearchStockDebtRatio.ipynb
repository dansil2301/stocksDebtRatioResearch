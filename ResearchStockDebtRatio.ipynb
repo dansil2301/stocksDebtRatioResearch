{
 "cells": [
  {
   "cell_type": "markdown",
   "source": [
    "# Data Preparation"
   ],
   "metadata": {
    "collapsed": false
   },
   "id": "31db6f4a4a28ae5c"
  },
  {
   "cell_type": "markdown",
   "source": [
    "### Imports"
   ],
   "metadata": {
    "collapsed": false
   },
   "id": "8bbb23ad419145e7"
  },
  {
   "cell_type": "code",
   "outputs": [],
   "source": [
    "import investpy\n",
    "import yfinance as yf\n",
    "import pandas as pd\n",
    "import numpy as np\n",
    "import requests"
   ],
   "metadata": {
    "collapsed": true,
    "ExecuteTime": {
     "end_time": "2024-10-08T18:44:30.722378400Z",
     "start_time": "2024-10-08T18:44:29.855434900Z"
    }
   },
   "id": "initial_id",
   "execution_count": 5
  },
  {
   "cell_type": "markdown",
   "source": [
    "## US companies ticket extraction"
   ],
   "metadata": {
    "collapsed": false
   },
   "id": "36c2fb0bea4c2060"
  },
  {
   "cell_type": "code",
   "outputs": [
    {
     "name": "stdout",
     "output_type": "stream",
     "text": [
      "         country             name               full_name          isin  \\\n",
      "0  united states           Boeing               Boeing Co  US0970231058   \n",
      "1  united states   General Motors  General Motors Company  US37045V1008   \n",
      "2  united states          Chevron            Chevron Corp  US1667641005   \n",
      "3  united states        Citigroup           Citigroup Inc  US1729674242   \n",
      "4  united states  Bank of America    Bank of America Corp  US0605051046   \n",
      "\n",
      "  currency symbol  \n",
      "0      USD     BA  \n",
      "1      USD     GM  \n",
      "2      USD    CVX  \n",
      "3      USD      C  \n",
      "4      USD    BAC  \n"
     ]
    }
   ],
   "source": [
    "us_stocks = investpy.stocks.get_stocks(country='united states')\n",
    "us_stocks.to_csv('companies/us_stocks.csv', index=False)\n",
    "print(us_stocks.head())"
   ],
   "metadata": {
    "collapsed": false,
    "ExecuteTime": {
     "end_time": "2024-10-05T12:18:17.423740500Z",
     "start_time": "2024-10-05T12:18:17.318744900Z"
    }
   },
   "id": "f604ba855889b30f",
   "execution_count": 4
  },
  {
   "cell_type": "markdown",
   "source": [
    "## Stocks price extraction from yahoo finance"
   ],
   "metadata": {
    "collapsed": false
   },
   "id": "9a7665417f86372d"
  },
  {
   "cell_type": "code",
   "outputs": [],
   "source": [
    "tickers = us_stocks['symbol'].tolist()\n",
    "\n",
    "for company in us_stocks.iterrows():\n",
    "    ticker = company[1][\"symbol\"]\n",
    "    try:\n",
    "        ticker_obj = yf.Ticker(ticker)\n",
    "        hist = ticker_obj.history(period=\"max\")\n",
    "        hist.to_csv(f\"companies\\\\price\\\\{company[1]['name']}-{ticker}.csv\", index=False)\n",
    "        print(ticker)\n",
    "    except Exception as e:\n",
    "        print(e)"
   ],
   "metadata": {
    "collapsed": false
   },
   "id": "27711007c83a3825",
   "execution_count": null
  },
  {
   "cell_type": "markdown",
   "source": [
    "## Debt ratio extraction from FMP"
   ],
   "metadata": {
    "collapsed": false
   },
   "id": "45849bc9541a105d"
  },
  {
   "cell_type": "code",
   "outputs": [],
   "source": [
    "URL = \"https://financialmodelingprep.com/api/v3/ratios/AAPL\"\n",
    "\n",
    "params = {\n",
    "    'limit': '200',\n",
    "    'apikey': '*'\n",
    "}\n",
    "\n",
    "for company in us_stocks.iterrows():\n",
    "    ticker = company[1][\"symbol\"]\n",
    "    \n",
    "    try:\n",
    "        response = requests.get(URL, params=params)\n",
    "        json_res = response.json()\n",
    "        company_debtR_history = {\"Date\": [], \"DebtRatio\": []}\n",
    "        for year_data in json_res:\n",
    "            if year_data['debtRatio'] != 0:\n",
    "                company_debtR_history[\"Date\"].append(year_data['date'])\n",
    "                company_debtR_history[\"DebtRatio\"].append(year_data['debtRatio'])\n",
    "        \n",
    "        company_df = pd.DataFrame(company_debtR_history)\n",
    "        company_df.to_csv(f\"companies/debt/{company[1]['name']}-{ticker}.csv\", index=False)\n",
    "        print(ticker)\n",
    "    except Exception as e:\n",
    "        print(e)"
   ],
   "metadata": {
    "collapsed": false
   },
   "id": "fd163519e11fe00f",
   "execution_count": null
  },
  {
   "cell_type": "markdown",
   "source": [],
   "metadata": {
    "collapsed": false
   },
   "id": "8feb165d3300e5df"
  },
  {
   "cell_type": "markdown",
   "source": [
    "## Concatenate close price of a stock with debt ratio"
   ],
   "metadata": {
    "collapsed": false
   },
   "id": "1751a6122363e38"
  },
  {
   "cell_type": "code",
   "outputs": [],
   "source": [
    "def merge_with_flexible_dates(stocks, debt, day_range=5):\n",
    "    merged_data = []\n",
    "    \n",
    "    for debt_row in debt.itertuples():\n",
    "        debt_date = debt_row.Date\n",
    "        \n",
    "        # Try to find exact match in stocks\n",
    "        stock_match = stocks[stocks['Date'] == debt_date]\n",
    "        \n",
    "        if stock_match.empty:\n",
    "            # If no exact match, find stock data within the 5-day window\n",
    "            stock_match = stocks[\n",
    "                (stocks['Date'] >= debt_date - pd.Timedelta(days=day_range)) &\n",
    "                (stocks['Date'] <= debt_date + pd.Timedelta(days=day_range))\n",
    "            ]\n",
    "        \n",
    "        if not stock_match.empty:\n",
    "            # Take the closest date (min difference)\n",
    "            closest_stock = stock_match.iloc[0]\n",
    "            combined_row = {\n",
    "                'Date': debt_date,\n",
    "                'Close': closest_stock['Close'],\n",
    "                'Debt': debt_row.DebtRatio\n",
    "            }\n",
    "            merged_data.append(combined_row)\n",
    "    \n",
    "    return pd.DataFrame(merged_data)"
   ],
   "metadata": {
    "collapsed": false,
    "ExecuteTime": {
     "end_time": "2024-10-01T14:44:56.200446900Z",
     "start_time": "2024-10-01T14:44:56.193060800Z"
    }
   },
   "id": "50e3f4dc205461a9",
   "execution_count": 14
  },
  {
   "cell_type": "code",
   "outputs": [],
   "source": [
    "for company in us_stocks.iterrows():\n",
    "    ticker = company[1][\"symbol\"]\n",
    "    \n",
    "    try:\n",
    "        stocks = pd.read_csv(f\"companies/price/{company[1]['name']}-{ticker}.csv\")\n",
    "        debt = pd.read_csv(f\"companies/debt/{company[1]['name']}-{ticker}.csv\")\n",
    "        \n",
    "        stocks['Date'] = pd.to_datetime(stocks['Date'], utc=True).dt.date\n",
    "        debt['Date'] = pd.to_datetime(debt['Date']).dt.date\n",
    "        debt = debt.sort_values(by='Date', ascending=True)\n",
    "        \n",
    "        combined_data = merge_with_flexible_dates(stocks, debt, day_range=2)\n",
    "        only_close_debt = combined_data.dropna()\n",
    "        \n",
    "        if not only_close_debt.empty:\n",
    "            print(ticker, company[1]['name'])\n",
    "            only_close_debt.to_csv(f\"companies/combined/{company[1]['name']}-{ticker}.csv\", index=False)\n",
    "    except Exception as e:\n",
    "        print(e)"
   ],
   "metadata": {
    "collapsed": false
   },
   "id": "5dda72a85ba72142",
   "execution_count": null
  },
  {
   "cell_type": "markdown",
   "source": [
    "## Final concatenation"
   ],
   "metadata": {
    "collapsed": false
   },
   "id": "8ffcd705acbebce1"
  },
  {
   "cell_type": "code",
   "outputs": [],
   "source": [
    "from sklearn.preprocessing import MinMaxScaler\n",
    "\n",
    "scaler = MinMaxScaler()\n",
    "analysis_data = pd.DataFrame()\n",
    "for company in us_stocks.iterrows():\n",
    "    ticker = company[1][\"symbol\"]\n",
    "    \n",
    "    try:\n",
    "        price_debt = pd.read_csv(f\"companies/combined/{company[1]['name']}-{ticker}.csv\")\n",
    "        price_debt['Date'] = pd.to_datetime(price_debt['Date'])\n",
    "        \n",
    "        last_2_decades = price_debt[price_debt['Date'] >= pd.to_datetime(\"2003-01-01\")]\n",
    "        last_2_decades = last_2_decades.dropna()\n",
    "        last_2_decades['Close_Percent_Change'] = last_2_decades['Close'].pct_change()\n",
    "        \n",
    "        ticker_obj = yf.Ticker(ticker)\n",
    "        splits = pd.DataFrame(ticker_obj.splits)\n",
    "        \n",
    "        split_dates = []\n",
    "        for split in splits.itertuples():\n",
    "            split_dates.append(split[0])\n",
    "        split_dates = pd.DataFrame({\"Date\": split_dates})\n",
    "        \n",
    "        split_dates['Date'] = pd.to_datetime(split_dates['Date'])\n",
    "        split_dates['Date'] = split_dates['Date'].dt.tz_localize(None)\n",
    "        splits_20_years = split_dates[split_dates['Date'] >= pd.to_datetime(\"2003-01-01\")]\n",
    "        \n",
    "        if len(last_2_decades) >= 20 and len(splits_20_years) == 0:\n",
    "            final = last_2_decades\n",
    "            \n",
    "            data_from_2003 = final[final['Date'] >= pd.to_datetime(\"2003-01-01\")]\n",
    "            first_price_2003 = data_from_2003['Close'].iloc[0]\n",
    "            final['Close'] = final['Close'] / first_price_2003\n",
    "            \n",
    "            final['Company'] = company[1]['name']\n",
    "            \n",
    "            if analysis_data.empty:\n",
    "                analysis_data = final\n",
    "            else:\n",
    "                analysis_data = pd.concat([analysis_data, final], axis=0)\n",
    "            \n",
    "            print(ticker, company[1]['name'])\n",
    "    \n",
    "    except Exception as e:\n",
    "        print(e)\n",
    "\n",
    "analysis_data.to_csv(\"companies/analysis_data.csv\", index=False)"
   ],
   "metadata": {
    "collapsed": false
   },
   "id": "4b5105cee726819a",
   "execution_count": null
  },
  {
   "cell_type": "markdown",
   "source": [
    "# Analysis"
   ],
   "metadata": {
    "collapsed": false
   },
   "id": "5abe2233788aaaf8"
  },
  {
   "cell_type": "markdown",
   "source": [
    "## Basic scatter for 4 random companies"
   ],
   "metadata": {
    "collapsed": false
   },
   "id": "73d1cae3645fc4b4"
  },
  {
   "cell_type": "code",
   "outputs": [
    {
     "data": {
      "text/plain": "<Figure size 1200x800 with 1 Axes>",
      "image/png": "[encoded data removed]"
     },
     "metadata": {},
     "output_type": "display_data"
    }
   ],
   "source": [
    "import matplotlib.pyplot as plt\n",
    "\n",
    "analysis_data = pd.read_csv(\"companies/analysis_data.csv\")\n",
    "\n",
    "unique_companies = analysis_data['Company'].unique()[:4]  # Get the first 10 unique companies\n",
    "colors = plt.cm.viridis(np.linspace(0, 1, len(unique_companies)))  # Generate colors\n",
    "\n",
    "plt.figure(figsize=(12, 8))\n",
    "\n",
    "# Step 3: Scatter Plot\n",
    "for i, company in enumerate(unique_companies):\n",
    "    company_data = analysis_data[analysis_data['Company'] == company]\n",
    "    plt.scatter(company_data['Debt'], company_data['Close'], \n",
    "                color=colors[i], label=company)\n",
    "\n",
    "# Step 4: Customize the plot\n",
    "plt.title('Debt Ratio vs Normalized Stock Price for First 10 Companies')\n",
    "plt.xlabel('Debt Ratio')\n",
    "plt.ylabel('Normalized Stock Price (Close)')\n",
    "plt.legend()\n",
    "plt.grid(True)\n",
    "plt.show()"
   ],
   "metadata": {
    "collapsed": false,
    "ExecuteTime": {
     "end_time": "2024-10-08T18:44:40.484160600Z",
     "start_time": "2024-10-08T18:44:40.253794400Z"
    }
   },
   "id": "854ba26cdc50b2fd",
   "execution_count": 7
  },
  {
   "cell_type": "markdown",
   "source": [
    "## Regression analysis"
   ],
   "metadata": {
    "collapsed": false
   },
   "id": "659964512c711cba"
  },
  {
   "cell_type": "code",
   "outputs": [],
   "source": [
    "import pandas as pd\n",
    "from scipy import stats\n",
    "from sklearn.linear_model import LinearRegression\n",
    "from sklearn.model_selection import train_test_split\n",
    "from sklearn.metrics import mean_squared_error, r2_score"
   ],
   "metadata": {
    "collapsed": false,
    "ExecuteTime": {
     "end_time": "2024-10-08T19:07:08.044629100Z",
     "start_time": "2024-10-08T19:07:08.039109300Z"
    }
   },
   "id": "b76fe01709c4e5af",
   "execution_count": 36
  },
  {
   "cell_type": "code",
   "outputs": [],
   "source": [
    "analysis_data = analysis_data.dropna()\n",
    "\n",
    "df = analysis_data.sort_values('Date')\n",
    "df['Date'] = pd.to_datetime(df['Date'])\n",
    "\n",
    "df['Time'] = (df['Date'] - df['Date'].min()).dt.days\n",
    "\n",
    "df = df.dropna()\n",
    "\n",
    "grouped_companies = df.groupby('Company')"
   ],
   "metadata": {
    "collapsed": false,
    "ExecuteTime": {
     "end_time": "2024-10-08T19:06:09.595346300Z",
     "start_time": "2024-10-08T19:06:09.581109300Z"
    }
   },
   "id": "e5858412aeff50bb",
   "execution_count": 32
  },
  {
   "cell_type": "code",
   "outputs": [],
   "source": [
    "results = []\n",
    "\n",
    "for company, group in grouped_companies:\n",
    "\n",
    "    # Time-based model (without Debt)\n",
    "    X_time = group[['Time', 'Close_Percent_Change']]\n",
    "    \n",
    "    # Time + Debt model\n",
    "    X_time_debt = group[['Time', 'Close_Percent_Change', 'Debt']]\n",
    "    \n",
    "    # Actual values\n",
    "    y = group['Close']\n",
    "    \n",
    "    # Split data (Time-based model)\n",
    "    X_train_time, X_test_time, y_train, y_test = train_test_split(X_time, y, test_size=0.2, random_state=42)\n",
    "    \n",
    "    # Split data (Time + Debt model)\n",
    "    X_train_time_debt, X_test_time_debt, y_train_debt, y_test_debt = train_test_split(X_time_debt, y, test_size=0.2, random_state=42)\n",
    "    \n",
    "    # Time-based Model (without debt)\n",
    "    model_time = LinearRegression()\n",
    "    model_time.fit(X_train_time, y_train)\n",
    "    y_pred_time = model_time.predict(X_test_time)\n",
    "    \n",
    "    mse_time = mean_squared_error(y_test, y_pred_time)\n",
    "    r2_time = r2_score(y_test, y_pred_time)\n",
    "\n",
    "    # Time + Debt Model (with debt)\n",
    "    model_time_debt = LinearRegression()\n",
    "    model_time_debt.fit(X_train_time_debt, y_train_debt)\n",
    "    y_pred_time_debt = model_time_debt.predict(X_test_time_debt)\n",
    "    \n",
    "    mse_time_debt = mean_squared_error(y_test_debt, y_pred_time_debt)\n",
    "    r2_time_debt = r2_score(y_test_debt, y_pred_time_debt)\n",
    "    \n",
    "    # Store the results for this company\n",
    "    results.append({\n",
    "        'Company': company,\n",
    "        'MSE_Time': mse_time,\n",
    "        'R2_Time': r2_time,\n",
    "        'MSE_Time_Debt': mse_time_debt,\n",
    "        'R2_Time_Debt': r2_time_debt\n",
    "    })"
   ],
   "metadata": {
    "collapsed": false,
    "ExecuteTime": {
     "end_time": "2024-10-08T19:06:17.133203Z",
     "start_time": "2024-10-08T19:06:11.995948200Z"
    }
   },
   "id": "bab53dc9ba68adbd",
   "execution_count": 33
  },
  {
   "cell_type": "code",
   "outputs": [
    {
     "data": {
      "text/plain": "             Company   MSE_Time   R2_Time  MSE_Time_Debt  R2_Time_Debt\n0  1-800 FLOWERS.COM   1.980127 -0.156740       1.348132      0.212455\n1                8x8  25.270798  0.401286      20.615548      0.511578\n2                AAR   2.996837  0.061889       3.664258     -0.147037\n3      AB Electrolux   0.084810  0.859839       0.101314      0.832564\n4     ABM Industries   0.209584  0.894477       0.033666      0.983050",
      "text/html": "<div>\n<style scoped>\n    .dataframe tbody tr th:only-of-type {\n        vertical-align: middle;\n    }\n\n    .dataframe tbody tr th {\n        vertical-align: top;\n    }\n\n    .dataframe thead th {\n        text-align: right;\n    }\n</style>\n<table border=\"1\" class=\"dataframe\">\n  <thead>\n    <tr style=\"text-align: right;\">\n      <th></th>\n      <th>Company</th>\n      <th>MSE_Time</th>\n      <th>R2_Time</th>\n      <th>MSE_Time_Debt</th>\n      <th>R2_Time_Debt</th>\n    </tr>\n  </thead>\n  <tbody>\n    <tr>\n      <th>0</th>\n      <td>1-800 FLOWERS.COM</td>\n      <td>1.980127</td>\n      <td>-0.156740</td>\n      <td>1.348132</td>\n      <td>0.212455</td>\n    </tr>\n    <tr>\n      <th>1</th>\n      <td>8x8</td>\n      <td>25.270798</td>\n      <td>0.401286</td>\n      <td>20.615548</td>\n      <td>0.511578</td>\n    </tr>\n    <tr>\n      <th>2</th>\n      <td>AAR</td>\n      <td>2.996837</td>\n      <td>0.061889</td>\n      <td>3.664258</td>\n      <td>-0.147037</td>\n    </tr>\n    <tr>\n      <th>3</th>\n      <td>AB Electrolux</td>\n      <td>0.084810</td>\n      <td>0.859839</td>\n      <td>0.101314</td>\n      <td>0.832564</td>\n    </tr>\n    <tr>\n      <th>4</th>\n      <td>ABM Industries</td>\n      <td>0.209584</td>\n      <td>0.894477</td>\n      <td>0.033666</td>\n      <td>0.983050</td>\n    </tr>\n  </tbody>\n</table>\n</div>"
     },
     "execution_count": 34,
     "metadata": {},
     "output_type": "execute_result"
    }
   ],
   "source": [
    "results_df = pd.DataFrame(results)\n",
    "\n",
    "results_df.head()"
   ],
   "metadata": {
    "collapsed": false,
    "ExecuteTime": {
     "end_time": "2024-10-08T19:06:17.155234900Z",
     "start_time": "2024-10-08T19:06:17.133203Z"
    }
   },
   "id": "e4b62f7e9c54fae",
   "execution_count": 34
  },
  {
   "cell_type": "code",
   "outputs": [
    {
     "data": {
      "text/plain": "                    Company       P_value\n0         1-800 FLOWERS.COM  1.172286e-02\n1                       8x8  6.668755e-02\n2                       AAR  1.000000e+00\n3             AB Electrolux  1.000000e+00\n4            ABM Industries  3.661107e-08\n..                      ...           ...\n842    YPF Sociedad Anonima  9.711487e-02\n843              Yamaha DRC  6.930841e-03\n844                   Zions  1.826633e-10\n845  Zurich Insurance Group  1.208662e-02\n846                  inTest  3.258912e-02\n\n[847 rows x 2 columns]",
      "text/html": "<div>\n<style scoped>\n    .dataframe tbody tr th:only-of-type {\n        vertical-align: middle;\n    }\n\n    .dataframe tbody tr th {\n        vertical-align: top;\n    }\n\n    .dataframe thead th {\n        text-align: right;\n    }\n</style>\n<table border=\"1\" class=\"dataframe\">\n  <thead>\n    <tr style=\"text-align: right;\">\n      <th></th>\n      <th>Company</th>\n      <th>P_value</th>\n    </tr>\n  </thead>\n  <tbody>\n    <tr>\n      <th>0</th>\n      <td>1-800 FLOWERS.COM</td>\n      <td>1.172286e-02</td>\n    </tr>\n    <tr>\n      <th>1</th>\n      <td>8x8</td>\n      <td>6.668755e-02</td>\n    </tr>\n    <tr>\n      <th>2</th>\n      <td>AAR</td>\n      <td>1.000000e+00</td>\n    </tr>\n    <tr>\n      <th>3</th>\n      <td>AB Electrolux</td>\n      <td>1.000000e+00</td>\n    </tr>\n    <tr>\n      <th>4</th>\n      <td>ABM Industries</td>\n      <td>3.661107e-08</td>\n    </tr>\n    <tr>\n      <th>...</th>\n      <td>...</td>\n      <td>...</td>\n    </tr>\n    <tr>\n      <th>842</th>\n      <td>YPF Sociedad Anonima</td>\n      <td>9.711487e-02</td>\n    </tr>\n    <tr>\n      <th>843</th>\n      <td>Yamaha DRC</td>\n      <td>6.930841e-03</td>\n    </tr>\n    <tr>\n      <th>844</th>\n      <td>Zions</td>\n      <td>1.826633e-10</td>\n    </tr>\n    <tr>\n      <th>845</th>\n      <td>Zurich Insurance Group</td>\n      <td>1.208662e-02</td>\n    </tr>\n    <tr>\n      <th>846</th>\n      <td>inTest</td>\n      <td>3.258912e-02</td>\n    </tr>\n  </tbody>\n</table>\n<p>847 rows × 2 columns</p>\n</div>"
     },
     "execution_count": 37,
     "metadata": {},
     "output_type": "execute_result"
    }
   ],
   "source": [
    "def f_test(mse_reduced, mse_full, n, k_reduced, k_full):\n",
    "    numerator = (mse_reduced - mse_full) / (k_full - k_reduced)\n",
    "    denominator = mse_full / (n - k_full)\n",
    "    return numerator / denominator\n",
    "\n",
    "n = 20\n",
    "k_reduced = 2\n",
    "k_full = 3\n",
    "\n",
    "results_df['F_statistic'] = results_df.apply(lambda row: f_test(row['MSE_Time'], row['MSE_Time_Debt'], n, k_reduced, k_full), axis=1)\n",
    "\n",
    "results_df['P_value'] = results_df['F_statistic'].apply(lambda x: stats.f.sf(x, k_full - k_reduced, n - k_full))\n",
    "\n",
    "results_df[['Company', 'P_value']]"
   ],
   "metadata": {
    "collapsed": false,
    "ExecuteTime": {
     "end_time": "2024-10-08T19:07:11.464392300Z",
     "start_time": "2024-10-08T19:07:11.414079500Z"
    }
   },
   "id": "552c48c34caa03db",
   "execution_count": 37
  },
  {
   "cell_type": "code",
   "outputs": [
    {
     "data": {
      "text/plain": "                     Company       P_value\n0          1-800 FLOWERS.COM  1.172286e-02\n4             ABM Industries  3.661107e-08\n5                     ACADIA  3.506727e-02\n7                        AMD  1.363578e-02\n8    AMN Healthcare Services  1.643964e-03\n..                       ...           ...\n841              Xcel Energy  5.838227e-05\n843               Yamaha DRC  6.930841e-03\n844                    Zions  1.826633e-10\n845   Zurich Insurance Group  1.208662e-02\n846                   inTest  3.258912e-02\n\n[405 rows x 2 columns]",
      "text/html": "<div>\n<style scoped>\n    .dataframe tbody tr th:only-of-type {\n        vertical-align: middle;\n    }\n\n    .dataframe tbody tr th {\n        vertical-align: top;\n    }\n\n    .dataframe thead th {\n        text-align: right;\n    }\n</style>\n<table border=\"1\" class=\"dataframe\">\n  <thead>\n    <tr style=\"text-align: right;\">\n      <th></th>\n      <th>Company</th>\n      <th>P_value</th>\n    </tr>\n  </thead>\n  <tbody>\n    <tr>\n      <th>0</th>\n      <td>1-800 FLOWERS.COM</td>\n      <td>1.172286e-02</td>\n    </tr>\n    <tr>\n      <th>4</th>\n      <td>ABM Industries</td>\n      <td>3.661107e-08</td>\n    </tr>\n    <tr>\n      <th>5</th>\n      <td>ACADIA</td>\n      <td>3.506727e-02</td>\n    </tr>\n    <tr>\n      <th>7</th>\n      <td>AMD</td>\n      <td>1.363578e-02</td>\n    </tr>\n    <tr>\n      <th>8</th>\n      <td>AMN Healthcare Services</td>\n      <td>1.643964e-03</td>\n    </tr>\n    <tr>\n      <th>...</th>\n      <td>...</td>\n      <td>...</td>\n    </tr>\n    <tr>\n      <th>841</th>\n      <td>Xcel Energy</td>\n      <td>5.838227e-05</td>\n    </tr>\n    <tr>\n      <th>843</th>\n      <td>Yamaha DRC</td>\n      <td>6.930841e-03</td>\n    </tr>\n    <tr>\n      <th>844</th>\n      <td>Zions</td>\n      <td>1.826633e-10</td>\n    </tr>\n    <tr>\n      <th>845</th>\n      <td>Zurich Insurance Group</td>\n      <td>1.208662e-02</td>\n    </tr>\n    <tr>\n      <th>846</th>\n      <td>inTest</td>\n      <td>3.258912e-02</td>\n    </tr>\n  </tbody>\n</table>\n<p>405 rows × 2 columns</p>\n</div>"
     },
     "execution_count": 38,
     "metadata": {},
     "output_type": "execute_result"
    }
   ],
   "source": [
    "results_df[results_df['P_value'] < 0.05][['Company', 'P_value']]"
   ],
   "metadata": {
    "collapsed": false,
    "ExecuteTime": {
     "end_time": "2024-10-08T19:07:16.380816Z",
     "start_time": "2024-10-08T19:07:16.370529300Z"
    }
   },
   "id": "cb258dc2eb83dce9",
   "execution_count": 38
  },
  {
   "cell_type": "code",
   "outputs": [
    {
     "data": {
      "text/plain": "0.3977776062149023"
     },
     "execution_count": 39,
     "metadata": {},
     "output_type": "execute_result"
    }
   ],
   "source": [
    "results_df['P_value'].mean()"
   ],
   "metadata": {
    "collapsed": false,
    "ExecuteTime": {
     "end_time": "2024-10-08T19:07:27.439431300Z",
     "start_time": "2024-10-08T19:07:27.432966900Z"
    }
   },
   "id": "be435f472ff10c33",
   "execution_count": 39
  },
  {
   "cell_type": "markdown",
   "source": [
    "## Covariance analysis"
   ],
   "metadata": {
    "collapsed": false
   },
   "id": "284d21ae0c5dd837"
  },
  {
   "cell_type": "code",
   "outputs": [
    {
     "name": "stderr",
     "output_type": "stream",
     "text": [
      "C:\\Users\\Danila\\AppData\\Local\\Temp\\ipykernel_22816\\702562892.py:6: DeprecationWarning: DataFrameGroupBy.apply operated on the grouping columns. This behavior is deprecated, and in a future version of pandas the grouping columns will be excluded from the operation. Either pass `include_groups=False` to exclude the groupings or explicitly select the grouping columns after groupby to silence this warning.\n",
      "  covariance_table = analysis_data.groupby('Company').apply(calculate_covariance).reset_index()\n"
     ]
    },
    {
     "data": {
      "text/plain": "                    Company  price_ratio_covariance\n0         1-800 FLOWERS.COM                0.078226\n1                       8x8                0.457738\n2                       AAR                0.191856\n3             AB Electrolux                0.055100\n4            ABM Industries                0.156988\n..                      ...                     ...\n842    YPF Sociedad Anonima               -0.080154\n843              Yamaha DRC                0.129992\n844                   Zions                0.013791\n845  Zurich Insurance Group                0.921701\n846                  inTest                0.054611\n\n[847 rows x 2 columns]",
      "text/html": "<div>\n<style scoped>\n    .dataframe tbody tr th:only-of-type {\n        vertical-align: middle;\n    }\n\n    .dataframe tbody tr th {\n        vertical-align: top;\n    }\n\n    .dataframe thead th {\n        text-align: right;\n    }\n</style>\n<table border=\"1\" class=\"dataframe\">\n  <thead>\n    <tr style=\"text-align: right;\">\n      <th></th>\n      <th>Company</th>\n      <th>price_ratio_covariance</th>\n    </tr>\n  </thead>\n  <tbody>\n    <tr>\n      <th>0</th>\n      <td>1-800 FLOWERS.COM</td>\n      <td>0.078226</td>\n    </tr>\n    <tr>\n      <th>1</th>\n      <td>8x8</td>\n      <td>0.457738</td>\n    </tr>\n    <tr>\n      <th>2</th>\n      <td>AAR</td>\n      <td>0.191856</td>\n    </tr>\n    <tr>\n      <th>3</th>\n      <td>AB Electrolux</td>\n      <td>0.055100</td>\n    </tr>\n    <tr>\n      <th>4</th>\n      <td>ABM Industries</td>\n      <td>0.156988</td>\n    </tr>\n    <tr>\n      <th>...</th>\n      <td>...</td>\n      <td>...</td>\n    </tr>\n    <tr>\n      <th>842</th>\n      <td>YPF Sociedad Anonima</td>\n      <td>-0.080154</td>\n    </tr>\n    <tr>\n      <th>843</th>\n      <td>Yamaha DRC</td>\n      <td>0.129992</td>\n    </tr>\n    <tr>\n      <th>844</th>\n      <td>Zions</td>\n      <td>0.013791</td>\n    </tr>\n    <tr>\n      <th>845</th>\n      <td>Zurich Insurance Group</td>\n      <td>0.921701</td>\n    </tr>\n    <tr>\n      <th>846</th>\n      <td>inTest</td>\n      <td>0.054611</td>\n    </tr>\n  </tbody>\n</table>\n<p>847 rows × 2 columns</p>\n</div>"
     },
     "execution_count": 11,
     "metadata": {},
     "output_type": "execute_result"
    }
   ],
   "source": [
    "analysis_data = pd.read_csv(\"companies/analysis_data.csv\")\n",
    "\n",
    "def calculate_covariance(group):\n",
    "    return group[['Close', 'Debt']].cov().iloc[0, 1]\n",
    "\n",
    "covariance_table = analysis_data.groupby('Company').apply(calculate_covariance).reset_index()\n",
    "covariance_table.columns = ['Company', 'price_ratio_covariance']\n",
    "\n",
    "covariance_table"
   ],
   "metadata": {
    "collapsed": false,
    "ExecuteTime": {
     "end_time": "2024-10-08T18:47:46.026923Z",
     "start_time": "2024-10-08T18:47:45.725448100Z"
    }
   },
   "id": "901a963309c8a73d",
   "execution_count": 11
  },
  {
   "cell_type": "code",
   "outputs": [
    {
     "data": {
      "text/plain": "                    Company  price_ratio_covariance\n1                       8x8                0.457738\n2                       AAR                0.191856\n4            ABM Industries                0.156988\n5                    ACADIA                0.185380\n6                      AGCO                0.233167\n..                      ...                     ...\n839  Worthington Industries                0.386847\n840            Wynn Resorts                0.199423\n841             Xcel Energy                0.384612\n843              Yamaha DRC                0.129992\n845  Zurich Insurance Group                0.921701\n\n[463 rows x 2 columns]",
      "text/html": "<div>\n<style scoped>\n    .dataframe tbody tr th:only-of-type {\n        vertical-align: middle;\n    }\n\n    .dataframe tbody tr th {\n        vertical-align: top;\n    }\n\n    .dataframe thead th {\n        text-align: right;\n    }\n</style>\n<table border=\"1\" class=\"dataframe\">\n  <thead>\n    <tr style=\"text-align: right;\">\n      <th></th>\n      <th>Company</th>\n      <th>price_ratio_covariance</th>\n    </tr>\n  </thead>\n  <tbody>\n    <tr>\n      <th>1</th>\n      <td>8x8</td>\n      <td>0.457738</td>\n    </tr>\n    <tr>\n      <th>2</th>\n      <td>AAR</td>\n      <td>0.191856</td>\n    </tr>\n    <tr>\n      <th>4</th>\n      <td>ABM Industries</td>\n      <td>0.156988</td>\n    </tr>\n    <tr>\n      <th>5</th>\n      <td>ACADIA</td>\n      <td>0.185380</td>\n    </tr>\n    <tr>\n      <th>6</th>\n      <td>AGCO</td>\n      <td>0.233167</td>\n    </tr>\n    <tr>\n      <th>...</th>\n      <td>...</td>\n      <td>...</td>\n    </tr>\n    <tr>\n      <th>839</th>\n      <td>Worthington Industries</td>\n      <td>0.386847</td>\n    </tr>\n    <tr>\n      <th>840</th>\n      <td>Wynn Resorts</td>\n      <td>0.199423</td>\n    </tr>\n    <tr>\n      <th>841</th>\n      <td>Xcel Energy</td>\n      <td>0.384612</td>\n    </tr>\n    <tr>\n      <th>843</th>\n      <td>Yamaha DRC</td>\n      <td>0.129992</td>\n    </tr>\n    <tr>\n      <th>845</th>\n      <td>Zurich Insurance Group</td>\n      <td>0.921701</td>\n    </tr>\n  </tbody>\n</table>\n<p>463 rows × 2 columns</p>\n</div>"
     },
     "execution_count": 56,
     "metadata": {},
     "output_type": "execute_result"
    }
   ],
   "source": [
    "significant_table = covariance_table[(covariance_table['price_ratio_covariance'] < -0.1) | (covariance_table['price_ratio_covariance'] > 0.1)]\n",
    "significant_table"
   ],
   "metadata": {
    "collapsed": false,
    "ExecuteTime": {
     "end_time": "2024-10-08T19:43:50.200762300Z",
     "start_time": "2024-10-08T19:43:50.191783300Z"
    }
   },
   "id": "2b43eb8e8716105b",
   "execution_count": 56
  },
  {
   "cell_type": "code",
   "outputs": [
    {
     "name": "stdout",
     "output_type": "stream",
     "text": [
      "0.28448033731948247\n"
     ]
    },
    {
     "data": {
      "text/plain": "                     Company  price_ratio_covariance       P_value\n0          1-800 FLOWERS.COM                0.078226  1.172286e-02\n1             ABM Industries                0.156988  3.661107e-08\n2                     ACADIA                0.185380  3.506727e-02\n3                        AMD                0.290524  1.363578e-02\n4    AMN Healthcare Services                0.245535  1.643964e-03\n..                       ...                     ...           ...\n400              Xcel Energy                0.384612  5.838227e-05\n401               Yamaha DRC                0.129992  6.930841e-03\n402                    Zions                0.013791  1.826633e-10\n403   Zurich Insurance Group                0.921701  1.208662e-02\n404                   inTest                0.054611  3.258912e-02\n\n[405 rows x 3 columns]",
      "text/html": "<div>\n<style scoped>\n    .dataframe tbody tr th:only-of-type {\n        vertical-align: middle;\n    }\n\n    .dataframe tbody tr th {\n        vertical-align: top;\n    }\n\n    .dataframe thead th {\n        text-align: right;\n    }\n</style>\n<table border=\"1\" class=\"dataframe\">\n  <thead>\n    <tr style=\"text-align: right;\">\n      <th></th>\n      <th>Company</th>\n      <th>price_ratio_covariance</th>\n      <th>P_value</th>\n    </tr>\n  </thead>\n  <tbody>\n    <tr>\n      <th>0</th>\n      <td>1-800 FLOWERS.COM</td>\n      <td>0.078226</td>\n      <td>1.172286e-02</td>\n    </tr>\n    <tr>\n      <th>1</th>\n      <td>ABM Industries</td>\n      <td>0.156988</td>\n      <td>3.661107e-08</td>\n    </tr>\n    <tr>\n      <th>2</th>\n      <td>ACADIA</td>\n      <td>0.185380</td>\n      <td>3.506727e-02</td>\n    </tr>\n    <tr>\n      <th>3</th>\n      <td>AMD</td>\n      <td>0.290524</td>\n      <td>1.363578e-02</td>\n    </tr>\n    <tr>\n      <th>4</th>\n      <td>AMN Healthcare Services</td>\n      <td>0.245535</td>\n      <td>1.643964e-03</td>\n    </tr>\n    <tr>\n      <th>...</th>\n      <td>...</td>\n      <td>...</td>\n      <td>...</td>\n    </tr>\n    <tr>\n      <th>400</th>\n      <td>Xcel Energy</td>\n      <td>0.384612</td>\n      <td>5.838227e-05</td>\n    </tr>\n    <tr>\n      <th>401</th>\n      <td>Yamaha DRC</td>\n      <td>0.129992</td>\n      <td>6.930841e-03</td>\n    </tr>\n    <tr>\n      <th>402</th>\n      <td>Zions</td>\n      <td>0.013791</td>\n      <td>1.826633e-10</td>\n    </tr>\n    <tr>\n      <th>403</th>\n      <td>Zurich Insurance Group</td>\n      <td>0.921701</td>\n      <td>1.208662e-02</td>\n    </tr>\n    <tr>\n      <th>404</th>\n      <td>inTest</td>\n      <td>0.054611</td>\n      <td>3.258912e-02</td>\n    </tr>\n  </tbody>\n</table>\n<p>405 rows × 3 columns</p>\n</div>"
     },
     "execution_count": 61,
     "metadata": {},
     "output_type": "execute_result"
    }
   ],
   "source": [
    "# model improvement and relatively high covariance\n",
    "merged_data = pd.merge(covariance_table, results_df[results_df['P_value'] < 0.05][['Company', 'P_value']], on='Company', how='inner')\n",
    "print(merged_data['price_ratio_covariance'].mean())\n",
    "merged_data"
   ],
   "metadata": {
    "collapsed": false,
    "ExecuteTime": {
     "end_time": "2024-10-08T19:48:54.841020100Z",
     "start_time": "2024-10-08T19:48:54.829249900Z"
    }
   },
   "id": "c4237e18501ada09",
   "execution_count": 61
  },
  {
   "cell_type": "code",
   "outputs": [
    {
     "data": {
      "text/plain": "                    Company  Slope (per unit)  \\\n0         1-800 FLOWERS.COM          5.534154   \n1                       8x8         26.637292   \n2                       AAR         16.860614   \n3             AB Electrolux          7.010692   \n4            ABM Industries         12.279703   \n..                      ...               ...   \n842    YPF Sociedad Anonima          4.308954   \n843              Yamaha DRC          8.206660   \n844                   Zions          3.372191   \n845  Zurich Insurance Group         46.038507   \n846                  inTest          4.347840   \n\n     Price Change for 1% Debt Ratio Change  \n0                                 0.055342  \n1                                 0.266373  \n2                                 0.168606  \n3                                 0.070107  \n4                                 0.122797  \n..                                     ...  \n842                               0.043090  \n843                               0.082067  \n844                               0.033722  \n845                               0.460385  \n846                               0.043478  \n\n[847 rows x 3 columns]",
      "text/html": "<div>\n<style scoped>\n    .dataframe tbody tr th:only-of-type {\n        vertical-align: middle;\n    }\n\n    .dataframe tbody tr th {\n        vertical-align: top;\n    }\n\n    .dataframe thead th {\n        text-align: right;\n    }\n</style>\n<table border=\"1\" class=\"dataframe\">\n  <thead>\n    <tr style=\"text-align: right;\">\n      <th></th>\n      <th>Company</th>\n      <th>Slope (per unit)</th>\n      <th>Price Change for 1% Debt Ratio Change</th>\n    </tr>\n  </thead>\n  <tbody>\n    <tr>\n      <th>0</th>\n      <td>1-800 FLOWERS.COM</td>\n      <td>5.534154</td>\n      <td>0.055342</td>\n    </tr>\n    <tr>\n      <th>1</th>\n      <td>8x8</td>\n      <td>26.637292</td>\n      <td>0.266373</td>\n    </tr>\n    <tr>\n      <th>2</th>\n      <td>AAR</td>\n      <td>16.860614</td>\n      <td>0.168606</td>\n    </tr>\n    <tr>\n      <th>3</th>\n      <td>AB Electrolux</td>\n      <td>7.010692</td>\n      <td>0.070107</td>\n    </tr>\n    <tr>\n      <th>4</th>\n      <td>ABM Industries</td>\n      <td>12.279703</td>\n      <td>0.122797</td>\n    </tr>\n    <tr>\n      <th>...</th>\n      <td>...</td>\n      <td>...</td>\n      <td>...</td>\n    </tr>\n    <tr>\n      <th>842</th>\n      <td>YPF Sociedad Anonima</td>\n      <td>4.308954</td>\n      <td>0.043090</td>\n    </tr>\n    <tr>\n      <th>843</th>\n      <td>Yamaha DRC</td>\n      <td>8.206660</td>\n      <td>0.082067</td>\n    </tr>\n    <tr>\n      <th>844</th>\n      <td>Zions</td>\n      <td>3.372191</td>\n      <td>0.033722</td>\n    </tr>\n    <tr>\n      <th>845</th>\n      <td>Zurich Insurance Group</td>\n      <td>46.038507</td>\n      <td>0.460385</td>\n    </tr>\n    <tr>\n      <th>846</th>\n      <td>inTest</td>\n      <td>4.347840</td>\n      <td>0.043478</td>\n    </tr>\n  </tbody>\n</table>\n<p>847 rows × 3 columns</p>\n</div>"
     },
     "execution_count": 62,
     "metadata": {},
     "output_type": "execute_result"
    }
   ],
   "source": [
    "import statsmodels.api as sm\n",
    "\n",
    "\n",
    "price_change_results = []\n",
    "needed_companies = pd.merge(df, merged_data, on='Company', how='inner')\n",
    "for company, group in grouped_companies:\n",
    "    X = group['Debt']\n",
    "    y = group['Close']\n",
    "\n",
    "    model = sm.OLS(y, X)\n",
    "    results = model.fit()\n",
    "\n",
    "    slope = results.params['Debt']\n",
    "\n",
    "    price_change_for_1_percent = slope * 0.01  # 1% change in debt ratio\n",
    "\n",
    "    price_change_results.append({\n",
    "        'Company': company,\n",
    "        'Slope (per unit)': slope,\n",
    "        'Price Change for 1% Debt Ratio Change': price_change_for_1_percent\n",
    "    })\n",
    "\n",
    "price_change_df = pd.DataFrame(price_change_results)\n",
    "\n",
    "\n",
    "price_change_df"
   ],
   "metadata": {
    "collapsed": false,
    "ExecuteTime": {
     "end_time": "2024-10-08T19:48:59.299113200Z",
     "start_time": "2024-10-08T19:48:59.050452300Z"
    }
   },
   "id": "d1d085170d98f14f",
   "execution_count": 62
  },
  {
   "cell_type": "code",
   "outputs": [
    {
     "data": {
      "text/plain": "18.57303909291291"
     },
     "execution_count": 63,
     "metadata": {},
     "output_type": "execute_result"
    }
   ],
   "source": [
    "# average change in stock price for 1 percent change in debt ratio\n",
    "price_change_df['Price Change for 1% Debt Ratio Change'].mean() * 100"
   ],
   "metadata": {
    "collapsed": false,
    "ExecuteTime": {
     "end_time": "2024-10-08T19:49:04.531455700Z",
     "start_time": "2024-10-08T19:49:04.525075100Z"
    }
   },
   "id": "44c165b514be3423",
   "execution_count": 63
  },
  {
   "cell_type": "code",
   "outputs": [
    {
     "data": {
      "text/plain": "17.89495545231014"
     },
     "execution_count": 64,
     "metadata": {},
     "output_type": "execute_result"
    }
   ],
   "source": [
    "needed_companies = pd.merge(price_change_df, merged_data, on='Company', how='inner')\n",
    "needed_companies['Price Change for 1% Debt Ratio Change'].mean() * 100"
   ],
   "metadata": {
    "collapsed": false,
    "ExecuteTime": {
     "end_time": "2024-10-08T19:49:06.402791800Z",
     "start_time": "2024-10-08T19:49:06.399069300Z"
    }
   },
   "id": "6c7baafdf983a3d7",
   "execution_count": 64
  },
  {
   "cell_type": "code",
   "outputs": [
    {
     "data": {
      "text/plain": "19.19436007581816"
     },
     "execution_count": 65,
     "metadata": {},
     "output_type": "execute_result"
    }
   ],
   "source": [
    "needed_companies = pd.merge(price_change_df, results_df[results_df['P_value'] >= 0.05][['Company', 'P_value']], on='Company', how='inner')\n",
    "needed_companies['Price Change for 1% Debt Ratio Change'].mean() * 100"
   ],
   "metadata": {
    "collapsed": false,
    "ExecuteTime": {
     "end_time": "2024-10-08T19:49:09.933124400Z",
     "start_time": "2024-10-08T19:49:09.924419600Z"
    }
   },
   "id": "6662c3cff58ba2bc",
   "execution_count": 65
  },
  {
   "cell_type": "markdown",
   "source": [
    "## Correlation analysis "
   ],
   "metadata": {
    "collapsed": false
   },
   "id": "9ef7753703dd419"
  },
  {
   "cell_type": "code",
   "outputs": [
    {
     "name": "stdout",
     "output_type": "stream",
     "text": [
      "All companies with counted correlation:  847\n"
     ]
    },
    {
     "data": {
      "text/plain": "                    Company  Correlation\n0         1-800 FLOWERS.COM     0.644178\n1                       8x8     0.684363\n2                       AAR     0.734995\n3             AB Electrolux     0.623852\n4            ABM Industries     0.968201\n..                      ...          ...\n842    YPF Sociedad Anonima    -0.773401\n843              Yamaha DRC     0.880036\n844                   Zions     0.292352\n845  Zurich Insurance Group     0.911552\n846                  inTest     0.670510\n\n[847 rows x 2 columns]",
      "text/html": "<div>\n<style scoped>\n    .dataframe tbody tr th:only-of-type {\n        vertical-align: middle;\n    }\n\n    .dataframe tbody tr th {\n        vertical-align: top;\n    }\n\n    .dataframe thead th {\n        text-align: right;\n    }\n</style>\n<table border=\"1\" class=\"dataframe\">\n  <thead>\n    <tr style=\"text-align: right;\">\n      <th></th>\n      <th>Company</th>\n      <th>Correlation</th>\n    </tr>\n  </thead>\n  <tbody>\n    <tr>\n      <th>0</th>\n      <td>1-800 FLOWERS.COM</td>\n      <td>0.644178</td>\n    </tr>\n    <tr>\n      <th>1</th>\n      <td>8x8</td>\n      <td>0.684363</td>\n    </tr>\n    <tr>\n      <th>2</th>\n      <td>AAR</td>\n      <td>0.734995</td>\n    </tr>\n    <tr>\n      <th>3</th>\n      <td>AB Electrolux</td>\n      <td>0.623852</td>\n    </tr>\n    <tr>\n      <th>4</th>\n      <td>ABM Industries</td>\n      <td>0.968201</td>\n    </tr>\n    <tr>\n      <th>...</th>\n      <td>...</td>\n      <td>...</td>\n    </tr>\n    <tr>\n      <th>842</th>\n      <td>YPF Sociedad Anonima</td>\n      <td>-0.773401</td>\n    </tr>\n    <tr>\n      <th>843</th>\n      <td>Yamaha DRC</td>\n      <td>0.880036</td>\n    </tr>\n    <tr>\n      <th>844</th>\n      <td>Zions</td>\n      <td>0.292352</td>\n    </tr>\n    <tr>\n      <th>845</th>\n      <td>Zurich Insurance Group</td>\n      <td>0.911552</td>\n    </tr>\n    <tr>\n      <th>846</th>\n      <td>inTest</td>\n      <td>0.670510</td>\n    </tr>\n  </tbody>\n</table>\n<p>847 rows × 2 columns</p>\n</div>"
     },
     "execution_count": 66,
     "metadata": {},
     "output_type": "execute_result"
    }
   ],
   "source": [
    "correlation_results = pd.DataFrame(columns=['Company', 'Correlation'])\n",
    "\n",
    "correlation_results = []\n",
    "\n",
    "for company, group in analysis_data.groupby('Company'):\n",
    "    group = group.dropna(subset=['Debt', 'Close'])\n",
    "    correlation = group['Debt'].corr(group['Close'])\n",
    "    correlation_results.append({'Company': company, 'Correlation': correlation})\n",
    "\n",
    "correlation_results_df = pd.DataFrame(correlation_results)\n",
    "\n",
    "print(\"All companies with counted correlation: \", len(correlation_results_df))\n",
    "correlation_results_df"
   ],
   "metadata": {
    "collapsed": false,
    "ExecuteTime": {
     "end_time": "2024-10-08T19:58:56.798985200Z",
     "start_time": "2024-10-08T19:58:56.316644100Z"
    }
   },
   "id": "89b2c877535ae89a",
   "execution_count": 66
  },
  {
   "cell_type": "code",
   "outputs": [
    {
     "data": {
      "text/plain": "                    Company  Correlation\n0         1-800 FLOWERS.COM     0.644178\n1                       8x8     0.684363\n2                       AAR     0.734995\n3             AB Electrolux     0.623852\n4            ABM Industries     0.968201\n..                      ...          ...\n841             Xcel Energy     0.951820\n842    YPF Sociedad Anonima    -0.773401\n843              Yamaha DRC     0.880036\n845  Zurich Insurance Group     0.911552\n846                  inTest     0.670510\n\n[629 rows x 2 columns]",
      "text/html": "<div>\n<style scoped>\n    .dataframe tbody tr th:only-of-type {\n        vertical-align: middle;\n    }\n\n    .dataframe tbody tr th {\n        vertical-align: top;\n    }\n\n    .dataframe thead th {\n        text-align: right;\n    }\n</style>\n<table border=\"1\" class=\"dataframe\">\n  <thead>\n    <tr style=\"text-align: right;\">\n      <th></th>\n      <th>Company</th>\n      <th>Correlation</th>\n    </tr>\n  </thead>\n  <tbody>\n    <tr>\n      <th>0</th>\n      <td>1-800 FLOWERS.COM</td>\n      <td>0.644178</td>\n    </tr>\n    <tr>\n      <th>1</th>\n      <td>8x8</td>\n      <td>0.684363</td>\n    </tr>\n    <tr>\n      <th>2</th>\n      <td>AAR</td>\n      <td>0.734995</td>\n    </tr>\n    <tr>\n      <th>3</th>\n      <td>AB Electrolux</td>\n      <td>0.623852</td>\n    </tr>\n    <tr>\n      <th>4</th>\n      <td>ABM Industries</td>\n      <td>0.968201</td>\n    </tr>\n    <tr>\n      <th>...</th>\n      <td>...</td>\n      <td>...</td>\n    </tr>\n    <tr>\n      <th>841</th>\n      <td>Xcel Energy</td>\n      <td>0.951820</td>\n    </tr>\n    <tr>\n      <th>842</th>\n      <td>YPF Sociedad Anonima</td>\n      <td>-0.773401</td>\n    </tr>\n    <tr>\n      <th>843</th>\n      <td>Yamaha DRC</td>\n      <td>0.880036</td>\n    </tr>\n    <tr>\n      <th>845</th>\n      <td>Zurich Insurance Group</td>\n      <td>0.911552</td>\n    </tr>\n    <tr>\n      <th>846</th>\n      <td>inTest</td>\n      <td>0.670510</td>\n    </tr>\n  </tbody>\n</table>\n<p>629 rows × 2 columns</p>\n</div>"
     },
     "execution_count": 68,
     "metadata": {},
     "output_type": "execute_result"
    }
   ],
   "source": [
    "only_strong_corr = correlation_results_df[(correlation_results_df['Correlation'] > 0.5) | (correlation_results_df['Correlation'] < -0.5)]\n",
    "only_strong_corr"
   ],
   "metadata": {
    "collapsed": false,
    "ExecuteTime": {
     "end_time": "2024-10-08T19:59:11.936965500Z",
     "start_time": "2024-10-08T19:59:11.926178800Z"
    }
   },
   "id": "5bf8f9efae878561",
   "execution_count": 68
  },
  {
   "cell_type": "code",
   "outputs": [
    {
     "data": {
      "text/plain": "                    Company  Correlation       p_value\n0         1-800 FLOWERS.COM     0.634649  1.998777e-03\n1                       8x8     0.697409  4.412514e-04\n2                       AAR     0.750695  8.830121e-05\n3             AB Electrolux     0.644519  1.611115e-03\n4            ABM Industries     0.967208  9.148238e-13\n..                      ...          ...           ...\n841             Xcel Energy     0.954326  2.025224e-11\n842    YPF Sociedad Anonima    -0.702525  3.837832e-04\n843              Yamaha DRC     0.878915  1.579297e-07\n845  Zurich Insurance Group     0.915771  5.825338e-09\n846                  inTest     0.646812  1.530744e-03\n\n[664 rows x 3 columns]",
      "text/html": "<div>\n<style scoped>\n    .dataframe tbody tr th:only-of-type {\n        vertical-align: middle;\n    }\n\n    .dataframe tbody tr th {\n        vertical-align: top;\n    }\n\n    .dataframe thead th {\n        text-align: right;\n    }\n</style>\n<table border=\"1\" class=\"dataframe\">\n  <thead>\n    <tr style=\"text-align: right;\">\n      <th></th>\n      <th>Company</th>\n      <th>Correlation</th>\n      <th>p_value</th>\n    </tr>\n  </thead>\n  <tbody>\n    <tr>\n      <th>0</th>\n      <td>1-800 FLOWERS.COM</td>\n      <td>0.634649</td>\n      <td>1.998777e-03</td>\n    </tr>\n    <tr>\n      <th>1</th>\n      <td>8x8</td>\n      <td>0.697409</td>\n      <td>4.412514e-04</td>\n    </tr>\n    <tr>\n      <th>2</th>\n      <td>AAR</td>\n      <td>0.750695</td>\n      <td>8.830121e-05</td>\n    </tr>\n    <tr>\n      <th>3</th>\n      <td>AB Electrolux</td>\n      <td>0.644519</td>\n      <td>1.611115e-03</td>\n    </tr>\n    <tr>\n      <th>4</th>\n      <td>ABM Industries</td>\n      <td>0.967208</td>\n      <td>9.148238e-13</td>\n    </tr>\n    <tr>\n      <th>...</th>\n      <td>...</td>\n      <td>...</td>\n      <td>...</td>\n    </tr>\n    <tr>\n      <th>841</th>\n      <td>Xcel Energy</td>\n      <td>0.954326</td>\n      <td>2.025224e-11</td>\n    </tr>\n    <tr>\n      <th>842</th>\n      <td>YPF Sociedad Anonima</td>\n      <td>-0.702525</td>\n      <td>3.837832e-04</td>\n    </tr>\n    <tr>\n      <th>843</th>\n      <td>Yamaha DRC</td>\n      <td>0.878915</td>\n      <td>1.579297e-07</td>\n    </tr>\n    <tr>\n      <th>845</th>\n      <td>Zurich Insurance Group</td>\n      <td>0.915771</td>\n      <td>5.825338e-09</td>\n    </tr>\n    <tr>\n      <th>846</th>\n      <td>inTest</td>\n      <td>0.646812</td>\n      <td>1.530744e-03</td>\n    </tr>\n  </tbody>\n</table>\n<p>664 rows × 3 columns</p>\n</div>"
     },
     "execution_count": 45,
     "metadata": {},
     "output_type": "execute_result"
    }
   ],
   "source": [
    "from scipy import stats\n",
    "\n",
    "def calculate_correlation_significance(r, n):\n",
    "    # Calculate t-statistic\n",
    "    t = r * ((n - 2) ** 0.5) / ((1 - r ** 2) ** 0.5)\n",
    "    # Calculate p-value\n",
    "    p_value = 2 * (1 - stats.t.cdf(abs(t), df=n - 2))  # Two-tailed test\n",
    "    return p_value\n",
    "\n",
    "correlation_results_df['p_value'] = correlation_results_df.apply(lambda row: calculate_correlation_significance(row['Correlation'], len(analysis_data[analysis_data['Company'] == row['Company']])), axis=1)\n",
    "\n",
    "significant_correlations = correlation_results_df[correlation_results_df['p_value'] < 0.05]\n",
    "\n",
    "significant_correlations"
   ],
   "metadata": {
    "collapsed": false,
    "ExecuteTime": {
     "end_time": "2024-10-05T13:21:07.948217200Z",
     "start_time": "2024-10-05T13:21:07.181225900Z"
    }
   },
   "id": "dfe9f95f14d13ca8",
   "execution_count": 45
  },
  {
   "cell_type": "code",
   "outputs": [
    {
     "data": {
      "text/plain": "                    Company  Correlation_x       p_value  Correlation_y\n0                       AAR       0.750695  8.830121e-05       0.750695\n1            ABM Industries       0.967208  9.148238e-13       0.967208\n2                    ACADIA       0.719115  3.527656e-04       0.719115\n3                      AGCO       0.834052  2.625045e-06       0.834052\n4                       AMD       0.738019  1.339425e-04       0.738019\n..                      ...            ...           ...            ...\n492  Worthington Industries       0.925726  1.834775e-09       0.925726\n493             Xcel Energy       0.954326  2.025224e-11       0.954326\n494    YPF Sociedad Anonima      -0.702525  3.837832e-04      -0.702525\n495              Yamaha DRC       0.878915  1.579297e-07       0.878915\n496  Zurich Insurance Group       0.915771  5.825338e-09       0.915771\n\n[497 rows x 4 columns]",
      "text/html": "<div>\n<style scoped>\n    .dataframe tbody tr th:only-of-type {\n        vertical-align: middle;\n    }\n\n    .dataframe tbody tr th {\n        vertical-align: top;\n    }\n\n    .dataframe thead th {\n        text-align: right;\n    }\n</style>\n<table border=\"1\" class=\"dataframe\">\n  <thead>\n    <tr style=\"text-align: right;\">\n      <th></th>\n      <th>Company</th>\n      <th>Correlation_x</th>\n      <th>p_value</th>\n      <th>Correlation_y</th>\n    </tr>\n  </thead>\n  <tbody>\n    <tr>\n      <th>0</th>\n      <td>AAR</td>\n      <td>0.750695</td>\n      <td>8.830121e-05</td>\n      <td>0.750695</td>\n    </tr>\n    <tr>\n      <th>1</th>\n      <td>ABM Industries</td>\n      <td>0.967208</td>\n      <td>9.148238e-13</td>\n      <td>0.967208</td>\n    </tr>\n    <tr>\n      <th>2</th>\n      <td>ACADIA</td>\n      <td>0.719115</td>\n      <td>3.527656e-04</td>\n      <td>0.719115</td>\n    </tr>\n    <tr>\n      <th>3</th>\n      <td>AGCO</td>\n      <td>0.834052</td>\n      <td>2.625045e-06</td>\n      <td>0.834052</td>\n    </tr>\n    <tr>\n      <th>4</th>\n      <td>AMD</td>\n      <td>0.738019</td>\n      <td>1.339425e-04</td>\n      <td>0.738019</td>\n    </tr>\n    <tr>\n      <th>...</th>\n      <td>...</td>\n      <td>...</td>\n      <td>...</td>\n      <td>...</td>\n    </tr>\n    <tr>\n      <th>492</th>\n      <td>Worthington Industries</td>\n      <td>0.925726</td>\n      <td>1.834775e-09</td>\n      <td>0.925726</td>\n    </tr>\n    <tr>\n      <th>493</th>\n      <td>Xcel Energy</td>\n      <td>0.954326</td>\n      <td>2.025224e-11</td>\n      <td>0.954326</td>\n    </tr>\n    <tr>\n      <th>494</th>\n      <td>YPF Sociedad Anonima</td>\n      <td>-0.702525</td>\n      <td>3.837832e-04</td>\n      <td>-0.702525</td>\n    </tr>\n    <tr>\n      <th>495</th>\n      <td>Yamaha DRC</td>\n      <td>0.878915</td>\n      <td>1.579297e-07</td>\n      <td>0.878915</td>\n    </tr>\n    <tr>\n      <th>496</th>\n      <td>Zurich Insurance Group</td>\n      <td>0.915771</td>\n      <td>5.825338e-09</td>\n      <td>0.915771</td>\n    </tr>\n  </tbody>\n</table>\n<p>497 rows × 4 columns</p>\n</div>"
     },
     "execution_count": 46,
     "metadata": {},
     "output_type": "execute_result"
    }
   ],
   "source": [
    "combined_corr_df = pd.merge(significant_correlations, only_strong_corr, on='Company', how='inner')\n",
    "combined_corr_df"
   ],
   "metadata": {
    "collapsed": false,
    "ExecuteTime": {
     "end_time": "2024-10-05T13:21:19.954737300Z",
     "start_time": "2024-10-05T13:21:19.942387800Z"
    }
   },
   "id": "36e7eb1f72af6e2f",
   "execution_count": 46
  },
  {
   "cell_type": "code",
   "outputs": [
    {
     "data": {
      "text/plain": "<Figure size 1200x600 with 1 Axes>",
      "image/png": "[encoded data removed]"
     },
     "metadata": {},
     "output_type": "display_data"
    }
   ],
   "source": [
    "import seaborn as sns\n",
    "\n",
    "sorted_correlation_df = correlation_results_df.sort_values(by='Correlation', ascending=True)\n",
    "\n",
    "plt.figure(figsize=(12, 6))\n",
    "\n",
    "# Create a bar plot\n",
    "plt.scatter(sorted_correlation_df[\"Company\"], sorted_correlation_df[\"Correlation\"])\n",
    "\n",
    "# Set titles and labels\n",
    "plt.title('Correlation between DebtRatio and Close Price for Each Company', fontsize=16)\n",
    "plt.xlabel('Company', fontsize=12)\n",
    "plt.ylabel('Correlation Coefficient', fontsize=12)\n",
    "\n",
    "# Show grid lines\n",
    "plt.grid(axis='y')\n",
    "\n",
    "# Show the plot\n",
    "plt.tight_layout()\n",
    "plt.show()"
   ],
   "metadata": {
    "collapsed": false,
    "ExecuteTime": {
     "end_time": "2024-10-05T13:21:32.629609600Z",
     "start_time": "2024-10-05T13:21:29.330767Z"
    }
   },
   "id": "f6356cdcc5f9064e",
   "execution_count": 47
  }
 ],
 "metadata": {
  "kernelspec": {
   "display_name": "Python 3",
   "language": "python",
   "name": "python3"
  },
  "language_info": {
   "codemirror_mode": {
    "name": "ipython",
    "version": 2
   },
   "file_extension": ".py",
   "mimetype": "text/x-python",
   "name": "python",
   "nbconvert_exporter": "python",
   "pygments_lexer": "ipython2",
   "version": "2.7.6"
  }
 },
 "nbformat": 4,
 "nbformat_minor": 5
}
