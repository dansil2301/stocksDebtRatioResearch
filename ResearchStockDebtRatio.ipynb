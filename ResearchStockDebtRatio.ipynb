{
 "cells": [
  {
   "cell_type": "markdown",
   "source": [
    "# Data Preparation"
   ],
   "metadata": {
    "collapsed": false
   },
   "id": "31db6f4a4a28ae5c"
  },
  {
   "cell_type": "markdown",
   "source": [
    "### Imports"
   ],
   "metadata": {
    "collapsed": false
   },
   "id": "8bbb23ad419145e7"
  },
  {
   "cell_type": "code",
   "outputs": [],
   "source": [
    "import investpy\n",
    "import yfinance as yf\n",
    "import pandas as pd\n",
    "import requests "
   ],
   "metadata": {
    "collapsed": true,
    "ExecuteTime": {
     "end_time": "2024-09-30T10:24:40.130548200Z",
     "start_time": "2024-09-30T10:24:40.125993Z"
    }
   },
   "id": "initial_id",
   "execution_count": 6
  },
  {
   "cell_type": "markdown",
   "source": [
    "## US companies ticket extraction"
   ],
   "metadata": {
    "collapsed": false
   },
   "id": "36c2fb0bea4c2060"
  },
  {
   "cell_type": "code",
   "outputs": [],
   "source": [
    "us_stocks = investpy.stocks.get_stocks(country='united states')\n",
    "us_stocks.to_csv('companies/us_stocks.csv', index=False)\n",
    "print(us_stocks.head())"
   ],
   "metadata": {
    "collapsed": false
   },
   "id": "f604ba855889b30f",
   "execution_count": null
  },
  {
   "cell_type": "markdown",
   "source": [
    "## Stocks price extraction from yahoo finance"
   ],
   "metadata": {
    "collapsed": false
   },
   "id": "9a7665417f86372d"
  },
  {
   "cell_type": "code",
   "outputs": [],
   "source": [
    "tickers = us_stocks['symbol'].tolist()\n",
    "\n",
    "for company in us_stocks.iterrows():\n",
    "    ticker = company[1][\"symbol\"]\n",
    "    try:\n",
    "        ticker_obj = yf.Ticker(ticker)\n",
    "        hist = ticker_obj.history(period=\"max\")\n",
    "        hist.to_csv(f\"companies\\\\price\\\\{company[1]['name']}-{ticker}.csv\", index=False)\n",
    "        print(ticker)\n",
    "    except Exception as e:\n",
    "        print(e)"
   ],
   "metadata": {
    "collapsed": false
   },
   "id": "27711007c83a3825",
   "execution_count": null
  },
  {
   "cell_type": "markdown",
   "source": [
    "## Debt ratio extraction from FMP"
   ],
   "metadata": {
    "collapsed": false
   },
   "id": "45849bc9541a105d"
  },
  {
   "cell_type": "code",
   "outputs": [],
   "source": [
    "URL = \"https://financialmodelingprep.com/api/v3/ratios/AAPL\"\n",
    "\n",
    "params = {\n",
    "    'limit': '200',\n",
    "    'apikey': '*'\n",
    "}\n",
    "\n",
    "for company in us_stocks.iterrows():\n",
    "    ticker = company[1][\"symbol\"]\n",
    "    \n",
    "    try:\n",
    "        response = requests.get(URL, params=params)\n",
    "        json_res = response.json()\n",
    "        company_debtR_history = {\"Date\": [], \"DebtRatio\": []}\n",
    "        for year_data in json_res:\n",
    "            if year_data['debtRatio'] != 0:\n",
    "                company_debtR_history[\"Date\"].append(year_data['date'])\n",
    "                company_debtR_history[\"DebtRatio\"].append(year_data['debtRatio'])\n",
    "        \n",
    "        company_df = pd.DataFrame(company_debtR_history)\n",
    "        company_df.to_csv(f\"companies/debt/{company[1]['name']}-{ticker}.csv\", index=False)\n",
    "        print(ticker)\n",
    "    except Exception as e:\n",
    "        print(e)"
   ],
   "metadata": {
    "collapsed": false
   },
   "id": "fd163519e11fe00f",
   "execution_count": null
  },
  {
   "cell_type": "markdown",
   "source": [],
   "metadata": {
    "collapsed": false
   },
   "id": "8feb165d3300e5df"
  },
  {
   "cell_type": "markdown",
   "source": [
    "## Concatenate close price of a stock with debt ratio"
   ],
   "metadata": {
    "collapsed": false
   },
   "id": "1751a6122363e38"
  },
  {
   "cell_type": "code",
   "outputs": [],
   "source": [
    "for company in us_stocks.iterrows():\n",
    "    ticker = company[1][\"symbol\"]\n",
    "    \n",
    "    try:\n",
    "        stocks = pd.read_csv(f\"companies/price/{company[1]['name']}-{ticker}.csv\")\n",
    "        debt = pd.read_csv(f\"companies/debt/{company[1]['name']}-{ticker}.csv\")\n",
    "        \n",
    "        stocks['Date'] = pd.to_datetime(stocks['Date'], utc=True).dt.date\n",
    "        debt['Date'] = pd.to_datetime(debt['Date']).dt.date\n",
    "        \n",
    "        combined_data = pd.merge(stocks, debt, on='Date', how='inner')\n",
    "        combined_data = combined_data.dropna()\n",
    "        \n",
    "        only_close_debt = combined_data[['Date', 'Close', 'DebtRatio']]\n",
    "        \n",
    "        if not only_close_debt.empty:\n",
    "            print(ticker)\n",
    "            only_close_debt.to_csv(f\"companies/combined/{company[1]['name']}-{ticker}.csv\", index=False)\n",
    "    except Exception as e:\n",
    "        print(e)"
   ],
   "metadata": {
    "collapsed": false
   },
   "id": "5dda72a85ba72142",
   "execution_count": null
  },
  {
   "cell_type": "markdown",
   "source": [
    "## Add Extra Information (percent)"
   ],
   "metadata": {
    "collapsed": false
   },
   "id": "8ffcd705acbebce1"
  },
  {
   "cell_type": "code",
   "outputs": [],
   "source": [],
   "metadata": {
    "collapsed": false
   },
   "id": "4b5105cee726819a"
  }
 ],
 "metadata": {
  "kernelspec": {
   "display_name": "Python 3",
   "language": "python",
   "name": "python3"
  },
  "language_info": {
   "codemirror_mode": {
    "name": "ipython",
    "version": 2
   },
   "file_extension": ".py",
   "mimetype": "text/x-python",
   "name": "python",
   "nbconvert_exporter": "python",
   "pygments_lexer": "ipython2",
   "version": "2.7.6"
  }
 },
 "nbformat": 4,
 "nbformat_minor": 5
}
